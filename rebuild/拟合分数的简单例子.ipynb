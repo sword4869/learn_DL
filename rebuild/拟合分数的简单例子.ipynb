{
 "cells": [
  {
   "cell_type": "code",
   "execution_count": 6,
   "metadata": {},
   "outputs": [],
   "source": [
    "import torch\n",
    "import pandas as pd\n",
    "import numpy as np\n",
    "import torch.nn as nn\n",
    "from torch.utils.data import Dataset, DataLoader"
   ]
  },
  {
   "cell_type": "code",
   "execution_count": 67,
   "metadata": {},
   "outputs": [
    {
     "data": {
      "text/plain": [
       "array([['61.00 ', '59.00 ', '93', '46.67 ', '55.56 '],\n",
       "       ['71.00 ', '56.00 ', '86.4', '40.67 ', '55.89 '],\n",
       "       ['61.00 ', '55.00 ', '88', '52.00 ', '56.00 '],\n",
       "       ['63.00 ', '66.00 ', '92', '40.67 ', '56.56 '],\n",
       "       ['72.00 ', '49.00 ', '82.4', '49.33 ', '56.78 '],\n",
       "       ['61.00 ', '60.00 ', '83', '49.33 ', '56.78 '],\n",
       "       ['65.00 ', '60.00 ', '80.2', '45.33 ', '56.78 '],\n",
       "       ['66.00 ', '68.00 ', '90.00', '38.67 ', '57.56 '],\n",
       "       ['60.00 ', '65.00 ', '80', '48.67 ', '57.89 '],\n",
       "       ['68.00 ', '56.00 ', '86.80', '50.67 ', '58.22 '],\n",
       "       ['61.00 ', '63.00 ', '82.4', '51.33 ', '58.44 '],\n",
       "       ['75.00 ', '49.00 ', '82', '53.33 ', '59.11 '],\n",
       "       ['67.00 ', '70.00 ', '92.00', '40.67 ', '59.22 '],\n",
       "       ['65.00 ', '64.00 ', '82.2', '49.33 ', '59.44 '],\n",
       "       ['63.00 ', '64.00 ', '85.20', '56.67 ', '61.22 '],\n",
       "       ['75.00 ', '56.00 ', '83.00', '52.67 ', '61.22 '],\n",
       "       ['71.00 ', '70.00 ', '90', '43.33 ', '61.44 '],\n",
       "       ['57.00 ', '75.00 ', '81', '53.33 ', '61.78 '],\n",
       "       ['67.00 ', '68.00 ', '84.2', '52.00 ', '62.33 '],\n",
       "       ['66.00 ', '83.00 ', '91', '38.67 ', '62.56 '],\n",
       "       ['69.00 ', '62.00 ', '85.20', '56.67 ', '62.56 '],\n",
       "       ['69.00 ', '68.00 ', '79.2', '54.67 ', '63.89 '],\n",
       "       ['64.00 ', '57.00 ', '88.6', '71.33 ', '64.11 '],\n",
       "       ['71.00 ', '61.00 ', '81', '61.33 ', '64.44 '],\n",
       "       ['63.00 ', '77.00 ', '89.6', '53.33 ', '64.44 '],\n",
       "       ['67.00 ', '68.00 ', '93', '58.67 ', '64.56 '],\n",
       "       ['72.00 ', '62.00 ', '90.20', '60.00 ', '64.67 '],\n",
       "       ['68.00 ', '65.00 ', '78', '62.00 ', '65.00 '],\n",
       "       ['67.00 ', '70.00 ', '86', '58.00 ', '65.00 '],\n",
       "       ['64.00 ', '70.00 ', '78.6', '62.67 ', '65.56 '],\n",
       "       ['66.00 ', '64.00 ', '81', '68.67 ', '66.22 '],\n",
       "       ['73.00 ', '76.00 ', '92.40', '51.33 ', '66.78 '],\n",
       "       ['75.00 ', '77.00 ', '83', '48.67 ', '66.89 '],\n",
       "       ['68.00 ', '81.00 ', '82.20', '54.67 ', '67.89 '],\n",
       "       ['70.00 ', '86.00 ', '88', '50.67 ', '68.89 '],\n",
       "       ['60.00 ', '67.00 ', '81.00', '83.33 ', '70.11 '],\n",
       "       ['73.00 ', '75.00 ', '91.60', '67.33 ', '71.78 '],\n",
       "       ['59.00 ', '76.00 ', '90.20', '82.00 ', '72.33 '],\n",
       "       ['69.00 ', '82.00 ', '81', '74.00 ', '75.00 ']], dtype=object)"
      ]
     },
     "execution_count": 67,
     "metadata": {},
     "output_type": "execute_result"
    }
   ],
   "source": [
    "df = pd.read_csv('C:/Users/lab/Desktop/7777.csv', encoding='gbk')\n",
    "df = df.iloc[3:42, 2:8]\n",
    "data = df.values\n",
    "data2 = data[:, :5]\n",
    "data2[:, 2] = data[:, 5]\n",
    "data2"
   ]
  },
  {
   "attachments": {},
   "cell_type": "markdown",
   "metadata": {},
   "source": [
    "实际上 $E = (A + B + D ) /3$，C是干扰项"
   ]
  },
  {
   "cell_type": "code",
   "execution_count": 69,
   "metadata": {},
   "outputs": [
    {
     "data": {
      "text/plain": [
       "(array([[61.  , 59.  , 93.  , 46.67],\n",
       "        [71.  , 56.  , 86.4 , 40.67],\n",
       "        [61.  , 55.  , 88.  , 52.  ],\n",
       "        [63.  , 66.  , 92.  , 40.67],\n",
       "        [72.  , 49.  , 82.4 , 49.33],\n",
       "        [61.  , 60.  , 83.  , 49.33],\n",
       "        [65.  , 60.  , 80.2 , 45.33],\n",
       "        [66.  , 68.  , 90.  , 38.67],\n",
       "        [60.  , 65.  , 80.  , 48.67],\n",
       "        [68.  , 56.  , 86.8 , 50.67],\n",
       "        [61.  , 63.  , 82.4 , 51.33],\n",
       "        [75.  , 49.  , 82.  , 53.33],\n",
       "        [67.  , 70.  , 92.  , 40.67],\n",
       "        [65.  , 64.  , 82.2 , 49.33],\n",
       "        [63.  , 64.  , 85.2 , 56.67],\n",
       "        [75.  , 56.  , 83.  , 52.67],\n",
       "        [71.  , 70.  , 90.  , 43.33],\n",
       "        [57.  , 75.  , 81.  , 53.33],\n",
       "        [67.  , 68.  , 84.2 , 52.  ],\n",
       "        [66.  , 83.  , 91.  , 38.67],\n",
       "        [69.  , 62.  , 85.2 , 56.67],\n",
       "        [69.  , 68.  , 79.2 , 54.67],\n",
       "        [64.  , 57.  , 88.6 , 71.33],\n",
       "        [71.  , 61.  , 81.  , 61.33],\n",
       "        [63.  , 77.  , 89.6 , 53.33],\n",
       "        [67.  , 68.  , 93.  , 58.67],\n",
       "        [72.  , 62.  , 90.2 , 60.  ]], dtype=float32),\n",
       " array([55.56, 55.89, 56.  , 56.56, 56.78, 56.78, 56.78, 57.56, 57.89,\n",
       "        58.22, 58.44, 59.11, 59.22, 59.44, 61.22, 61.22, 61.44, 61.78,\n",
       "        62.33, 62.56, 62.56, 63.89, 64.11, 64.44, 64.44, 64.56, 64.67],\n",
       "       dtype=float32),\n",
       " array([[68.  , 65.  , 78.  , 62.  ],\n",
       "        [67.  , 70.  , 86.  , 58.  ],\n",
       "        [64.  , 70.  , 78.6 , 62.67],\n",
       "        [66.  , 64.  , 81.  , 68.67],\n",
       "        [73.  , 76.  , 92.4 , 51.33],\n",
       "        [75.  , 77.  , 83.  , 48.67],\n",
       "        [68.  , 81.  , 82.2 , 54.67],\n",
       "        [70.  , 86.  , 88.  , 50.67],\n",
       "        [60.  , 67.  , 81.  , 83.33],\n",
       "        [73.  , 75.  , 91.6 , 67.33],\n",
       "        [59.  , 76.  , 90.2 , 82.  ],\n",
       "        [69.  , 82.  , 81.  , 74.  ]], dtype=float32),\n",
       " array([65.  , 65.  , 65.56, 66.22, 66.78, 66.89, 67.89, 68.89, 70.11,\n",
       "        71.78, 72.33, 75.  ], dtype=float32))"
      ]
     },
     "execution_count": 69,
     "metadata": {},
     "output_type": "execute_result"
    }
   ],
   "source": [
    "split = int(len(data2)*0.7)\n",
    "X = data[:split, :4].astype(np.float32)\n",
    "Y = data[:split, 4].astype(np.float32)\n",
    "X2 = data[split:, :4].astype(np.float32)\n",
    "Y2 = data[split:, 4].astype(np.float32)\n",
    "X, Y, X2, Y2"
   ]
  },
  {
   "attachments": {},
   "cell_type": "markdown",
   "metadata": {},
   "source": [
    "```python\n",
    "self.Y = torch.tensor(Y).unsqueeze(1)\n",
    "```\n",
    "假设输入特征维度是4，输出标签的特征维度是1，A取`batch_size`个输入到网络得到shape是`[batch_size, 4] -> [batch_size, 1]`，而不是`[batch_size]`。所以，你制作数据集的label时，应该是`[n, 1]`的样子。"
   ]
  },
  {
   "cell_type": "code",
   "execution_count": 81,
   "metadata": {},
   "outputs": [],
   "source": [
    "class MyDataset(Dataset):\n",
    "    def __init__(self, X, Y=None):\n",
    "        \"\"\"\n",
    "        Args:\n",
    "            @param Y: When Y=none, the data set is \"test\". Otherwise, it is the training set\n",
    "        \"\"\"\n",
    "        super(MyDataset, self).__init__()\n",
    "        self.X = torch.tensor(X)                # [n, 4]\n",
    "        if Y is not None:\n",
    "            assert len(X) == len(Y)\n",
    "            self.Y = torch.tensor(Y).unsqueeze(1)   # [n, 1]\n",
    "        else:\n",
    "            self.Y = None\n",
    "    \n",
    "    def __len__(self):\n",
    "        return len(self.X)\n",
    "    \n",
    "    def __getitem__(self, index):\n",
    "        if self.Y is not None:\n",
    "            return self.X[index], self.Y[index]\n",
    "        else:\n",
    "            return self.X[index]"
   ]
  },
  {
   "cell_type": "code",
   "execution_count": 82,
   "metadata": {},
   "outputs": [],
   "source": [
    "train_dataset = MyDataset(X, Y)\n",
    "train_dl = DataLoader(train_dataset, batch_size=1)\n",
    "\n",
    "test_dataset = MyDataset(X2)\n",
    "test_dl = DataLoader(test_dataset, batch_size=1)"
   ]
  },
  {
   "cell_type": "code",
   "execution_count": 108,
   "metadata": {},
   "outputs": [
    {
     "data": {
      "text/plain": [
       "Net(\n",
       "  (linear): Sequential(\n",
       "    (0): Linear(in_features=4, out_features=16, bias=True)\n",
       "    (1): ReLU()\n",
       "    (2): Dropout(p=0.2, inplace=False)\n",
       "    (3): Linear(in_features=16, out_features=8, bias=True)\n",
       "    (4): ReLU()\n",
       "    (5): Dropout(p=0.2, inplace=False)\n",
       "    (6): Linear(in_features=8, out_features=1, bias=True)\n",
       "  )\n",
       ")"
      ]
     },
     "execution_count": 108,
     "metadata": {},
     "output_type": "execute_result"
    }
   ],
   "source": [
    "class Net(nn.Module):\n",
    "    def __init__(self):\n",
    "        super(Net, self).__init__()\n",
    "        self.linear = nn.Sequential(\n",
    "            nn.Linear(4, 16),\n",
    "            nn.ReLU(),\n",
    "            nn.Dropout(0.2),\n",
    "            nn.Linear(16, 8),\n",
    "            nn.ReLU(),\n",
    "            nn.Dropout(0.2),\n",
    "            nn.Linear(8, 1)\n",
    "        )\n",
    "    \n",
    "    def forward(self, X):\n",
    "        out = self.linear(X)\n",
    "        return out\n",
    "\n",
    "device = torch.device('cuda')\n",
    "net = Net().to(device)\n",
    "optimizer = torch.optim.Adam(net.parameters(), lr=1e-3)\n",
    "loss = nn.MSELoss()\n",
    "\n",
    "def init_param(m):\n",
    "    if type(m) == nn.Linear or type(m) == nn.Conv2d:\n",
    "        nn.init.xavier_uniform_(m.weight)\n",
    "        \n",
    "net.apply(init_param)"
   ]
  },
  {
   "cell_type": "code",
   "execution_count": null,
   "metadata": {},
   "outputs": [],
   "source": [
    "epoch = 0\n",
    "while epoch < 50000:\n",
    "    for x,y in train_dl:\n",
    "        optimizer.zero_grad()\n",
    "        x,y = x.to(device),y.to(device)\n",
    "        y_hat = net(x)\n",
    "        # print(y, y_hat)\n",
    "        l = loss(y, y_hat)\n",
    "        l.backward()\n",
    "        optimizer.step()\n",
    "        print(f'{epoch} : {l.item()}')\n",
    "        epoch += 1"
   ]
  },
  {
   "cell_type": "code",
   "execution_count": 114,
   "metadata": {},
   "outputs": [],
   "source": [
    "net.eval()\n",
    "y_preds = []\n",
    "for x in test_dl:\n",
    "    x = x.to(device)\n",
    "    with torch.no_grad():\n",
    "        y_pred = net(x)\n",
    "    y_preds.append(y_pred.detach().item())"
   ]
  },
  {
   "cell_type": "code",
   "execution_count": 117,
   "metadata": {},
   "outputs": [
    {
     "data": {
      "text/plain": [
       "array([0.07260132, 0.10398102, 0.09038544, 0.06794739, 0.14838409,\n",
       "       0.15836334, 0.14992523, 0.16079712, 0.08699036, 0.19973755,\n",
       "       0.14920044, 0.2219696 ])"
      ]
     },
     "execution_count": 117,
     "metadata": {},
     "output_type": "execute_result"
    }
   ],
   "source": [
    "np.abs(y_preds - Y2) "
   ]
  },
  {
   "cell_type": "code",
   "execution_count": 116,
   "metadata": {},
   "outputs": [
    {
     "data": {
      "text/plain": [
       "([64.92739868164062,\n",
       "  64.8960189819336,\n",
       "  65.46961212158203,\n",
       "  66.15205383300781,\n",
       "  66.6316146850586,\n",
       "  66.73163604736328,\n",
       "  67.74007415771484,\n",
       "  68.72920227050781,\n",
       "  70.02301025390625,\n",
       "  71.58026123046875,\n",
       "  72.18080139160156,\n",
       "  74.77803039550781],\n",
       " array([65.  , 65.  , 65.56, 66.22, 66.78, 66.89, 67.89, 68.89, 70.11,\n",
       "        71.78, 72.33, 75.  ], dtype=float32))"
      ]
     },
     "execution_count": 116,
     "metadata": {},
     "output_type": "execute_result"
    }
   ],
   "source": [
    "y_preds, Y2"
   ]
  }
 ],
 "metadata": {
  "kernelspec": {
   "display_name": "Python 3.8.15 ('sediment')",
   "language": "python",
   "name": "python3"
  },
  "language_info": {
   "codemirror_mode": {
    "name": "ipython",
    "version": 3
   },
   "file_extension": ".py",
   "mimetype": "text/x-python",
   "name": "python",
   "nbconvert_exporter": "python",
   "pygments_lexer": "ipython3",
   "version": "3.8.16"
  },
  "orig_nbformat": 4,
  "vscode": {
   "interpreter": {
    "hash": "4915a8b91cb4184ad5c9966fda2d0aa571f0ecf01c3617354f95c2bb859ee0cd"
   }
  }
 },
 "nbformat": 4,
 "nbformat_minor": 2
}
