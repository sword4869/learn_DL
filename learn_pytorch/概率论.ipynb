{
 "cells": [
  {
   "cell_type": "markdown",
   "id": "89123224",
   "metadata": {},
   "source": [
    "# 概率"
   ]
  },
  {
   "cell_type": "markdown",
   "id": "c421fdbb",
   "metadata": {},
   "source": [
    "## 联合概率（joint probability）\n",
    "\n",
    "$A=a$和$B=b$同时满足的概率是多少？\n",
    "\n",
    "$$P(A=a,B=b)$$\n",
    "\n",
    "$P(A, B)$是一个*联合分布*（joint distribution）"
   ]
  },
  {
   "cell_type": "markdown",
   "id": "c7387fe8",
   "metadata": {},
   "source": [
    "*乘法法则*（multiplication rule ）可得到\n",
    "- $P(A, B) = P(B \\mid A) P(A)$\n",
    "- $P(A, B) = P(A \\mid B) P(B)$"
   ]
  },
  {
   "cell_type": "markdown",
   "id": "04fb811a",
   "metadata": {},
   "source": [
    "## 条件概率（conditional probability）\n",
    "\n",
    "对于任何$a$和$b$的取值，$P(A = a, B=b) \\leq P(A=a)$。\n",
    "\n",
    "有$$0 \\leq \\frac{P(A=a, B=b)}{P(A=a)} \\leq 1$$\n",
    "\n",
    "我们称这个比率为条件概率, 并用$P(B=b \\mid A=a)$表示它：它是$B=b$的概率，前提是$A=a$已发生。\n",
    "\n",
    "$P(A \\mid B)$是一个*条件分布*（conditional distribution）"
   ]
  },
  {
   "cell_type": "markdown",
   "id": "e534587f",
   "metadata": {},
   "source": [
    "## 贝叶斯定理\n",
    "\n",
    "贝叶斯定理:\n",
    "$$P(A \\mid B) = \\frac{P(B \\mid A) P(A)}{P(B)}$$\n",
    "\n",
    "求$P(A \\mid B)$需要求三个值:\n",
    "- 它的颠倒$P(B \\mid A)$\n",
    "- 它的两个基础 $P(A)$, $P(B)$"
   ]
  },
  {
   "cell_type": "markdown",
   "id": "3d35e075",
   "metadata": {},
   "source": [
    "## 边际化（marginalization）\n",
    "\n",
    "为了能进行事件概率求和，我们需要*求和法则*（sum rule），\n",
    "即$B$的概率相当于计算$A$的所有可能选择，并将所有选择的联合概率聚合在一起：\n",
    "\n",
    "$$P(B) = \\sum_{A} P(A, B)$$\n",
    "\n",
    "边际化结果的概率或分布称为*边际概率*（marginal probability）\n",
    "或*边际分布*（marginal distribution）。"
   ]
  },
  {
   "cell_type": "markdown",
   "id": "c1027c34",
   "metadata": {},
   "source": [
    "## 独立性\n",
    "\n",
    "另一个有用属性是*依赖*（dependence）与*独立*（independence）。\n",
    "\n",
    "如果两个随机变量$A$和$B$是独立的，意味着事件$A$的发生跟$B$事件的发生无关. 统计学家通常将这一点表述为$A \\perp  B$。在所有其他情况下，我们称$A$和$B$依赖。\n",
    "\n",
    "比如，两次连续抛出一个骰子的事件是相互独立的。相比之下，灯开关的位置和房间的亮度并不是（因为可能存在灯泡坏掉、电源故障，或者开关故障）。\n",
    "\n",
    "由于$$P(A \\mid B) = \\frac{P(A, B)}{P(B)} = P(A)$$等价于$$P(A, B) = P(A)P(B)$$\n",
    "\n",
    "因此两个随机变量是独立的，当且仅当两个随机变量的联合分布是其各自分布的乘积。\n",
    "\n",
    "同样地，给定另一个随机变量$C$时，两个随机变量$A$和$B$是*条件独立的*（conditionally independent），\n",
    "当且仅当$$P(A, B \\mid C) = P(A \\mid C)P(B \\mid C)$$\n",
    "这个情况表示为$A \\perp B \\mid C$。"
   ]
  },
  {
   "cell_type": "markdown",
   "id": "5dca6c34",
   "metadata": {},
   "source": [
    "# 概率的例子"
   ]
  },
  {
   "cell_type": "markdown",
   "id": "ae51c0ec",
   "metadata": {},
   "source": [
    "## 总结\n",
    "\n",
    "已知:\n",
    "- 第一次检测:\n",
    "  \n",
    "  如果患者健康但测试显示他患病，这个概率只有1%\n",
    "  $$𝑃(𝐷_1=1\\mid 𝐻=0)=1\\%$$\n",
    "  如果患者真正感染HIV，它永远不会检测不出\n",
    "  $$𝑃(𝐷_1=1 \\mid 𝐻=1)=1$$\n",
    "- 第二次检测:\n",
    "\n",
    "  如果患者健康但测试显示他患病\n",
    "  $$𝑃(𝐷_2=1\\mid 𝐻=0)=3\\%$$\n",
    "  如果患者真正感染HIV, 它会被检测出的概率\n",
    "  $$𝑃(𝐷_2=1 \\mid 𝐻=1)=98\\%$$\n",
    "  \n",
    "- 疾病有多常见\n",
    "\n",
    "  $$P(H=1) = 0.0015$$\n",
    " \n",
    "求:\n",
    "- 如果测试出来呈阳性，患者感染HIV的概率(患者实际上患有艾滋病的几率)\n",
    "  $$P(H = 1 \\mid D_1 = 1)$$\n",
    "  \n",
    "    > $P(H = 1 \\mid D_1 = 1)$需要求$P(H=1)$,$P(D_1=1)$,$P(D_1=1 \\mid H=1)$\n",
    "  \n",
    "    > $P(D_1=1)$需要求$P(D_1=1,H=1)$,$P(D_1=1,H=0)$\n",
    "    \n",
    "    > $P(D_1=1,H=1)$用$𝑃(𝐷_1=1\\mid 𝐻=1)$和$P(H=1)$. 同理$P(D_1=1,H=0)$\n",
    "  \n",
    "- 鉴于存在两次阳性检测，患者患有艾滋病的概率为\n",
    "  $$P(H = 1 \\mid D_1 = 1, D_2 = 1)$$\n",
    "  \n",
    "  > $P(H = 1 \\mid D_1 = 1, D_2 = 1)$需要求$P(D_1 = 1, D_2 = 1 \\mid H = 1)$,$P(H = 1)$,$P(D_1 = 1, D_2 = 1)$\n",
    "  \n",
    "  > $P(D_1 = 1, D_2 = 1)$需要求$P(D_1 = 1, D_2 = 1, H = 1)$,$P(D_1 = 1, D_2 = 1, H = 0)$\n",
    "  \n",
    "  > $P(D_1 = 1, D_2 = 1, H = 1)$需要求$P(D_1 = 1, D_2 = 1\\mid H = 1)$和$P(H=1)$. \n",
    "  $P(D_1 = 1, D_2 = 1, H = 0)$同理求$P(D_1 = 1, D_2 = 1\\mid H = 0)$\n",
    "  \n",
    "  > $P(D_1 = 1, D_2 = 1\\mid H = 1)$=$P(D_1 = 1\\mid H = 1) * P(D_2 = 1\\mid H = 1)$"
   ]
  },
  {
   "cell_type": "markdown",
   "id": "550f687b",
   "metadata": {},
   "source": [
    "## 分析"
   ]
  },
  {
   "cell_type": "markdown",
   "id": "ee029303",
   "metadata": {},
   "source": [
    "假设一个医生对患者进行艾滋病病毒（HIV）测试。\n",
    "这个测试是相当准确的，如果患者健康但测试显示他患病，这个概率只有1%；\n",
    "如果患者真正感染HIV，它永远不会检测不出。\n",
    "我们使用$D_1$来表示诊断结果（如果阳性，则为$1$，如果阴性，则为$0$），\n",
    "$H$来表示感染艾滋病病毒的状态（如果阳性，则为$1$，如果阴性，则为$0$）。列出了这样的条件概率。\n",
    "\n",
    "条件概率为$P(D_1 \\mid H)$\n",
    "\n",
    "|条件概率|$$H=1$$|$$H=0$$|\n",
    "|:-:|:-:|:-:|\n",
    "|$$P(D_1=1 \\mid H)$$|1 |0.01 |\n",
    "|$$P(D_1=0 \\mid H)$$|0 |0.99 |\n",
    "\n",
    "请注意，每列的加和都是1（但每行的加和不是），因为条件概率需要总和为1，就像概率一样。"
   ]
  },
  {
   "cell_type": "markdown",
   "id": "5d7a855b",
   "metadata": {},
   "source": [
    "让我们计算如果测试出来呈阳性，患者感染HIV的概率，即$P(H = 1 \\mid D_1 = 1)$。\n",
    "\n",
    "显然，这将取决于疾病有多常见，因为它会影响错误警报的数量。\n",
    "假设人口总体是相当健康的，例如，$P(H=1) = 0.0015$。\n",
    "\n",
    "\n",
    "为了应用贝叶斯定理，我们需要运用边际化和乘法法则来确定\n",
    "\n",
    "$$\\begin{aligned}\n",
    "&P(D_1 = 1) \\\\\n",
    "=& P(D_1=1, H=0) + P(D_1=1, H=1)  \\\\\n",
    "=& P(D_1=1 \\mid H=0) P(H=0) + P(D_1=1 \\mid H=1) P(H=1) \\\\\n",
    "=& 0.011485.\n",
    "\\end{aligned}\n",
    "$$\n",
    "\n",
    "因此，我们得到\n",
    "\n",
    "$$\\begin{aligned}\n",
    "&P(H = 1 \\mid D_1 = 1)\\\\ =& \\frac{P(D_1=1 \\mid H=1) P(H=1)}{P(D_1=1)} \\\\ =& 0.1306 \\end{aligned}.$$\n",
    "\n",
    "换句话说，尽管使用了非常准确的测试，患者实际上患有艾滋病的几率只有13.06%。正如我们所看到的，概率可能是违反直觉的。\n",
    "\n"
   ]
  },
  {
   "cell_type": "markdown",
   "id": "22fafa19",
   "metadata": {},
   "source": [
    "\n",
    "患者在收到这样可怕的消息后应该怎么办？很可能，患者会要求医生进行另一次测试来确定病情。第二个测试具有不同的特性，它不如第一个测试那么精确，\n",
    "\n",
    "条件概率为$P(D_2 \\mid H)$\n",
    "\n",
    "| 条件概率 | $$H=1$$| $$H=0$$ |\n",
    "|---|---|---|\n",
    "|$$P(D_2 = 1 \\mid H)$$|            0.98 |         0.03 |\n",
    "|$$P(D_2 = 0 \\mid H)$$|            0.02 |         0.97 |\n",
    "\n",
    "不幸的是，第二次测试也显示阳性。让我们通过假设条件独立性来计算出应用Bayes定理的必要概率：\n",
    "\n",
    "$$\\begin{aligned}\n",
    "&P(D_1 = 1, D_2 = 1 \\mid H = 0) \\\\\n",
    "=& P(D_1 = 1 \\mid H = 0) P(D_2 = 1 \\mid H = 0)  \\\\\n",
    "=& 0.0003,\n",
    "\\end{aligned}\n",
    "$$\n",
    "\n",
    "$$\\begin{aligned}\n",
    "&P(D_1 = 1, D_2 = 1 \\mid H = 1) \\\\\n",
    "=& P(D_1 = 1 \\mid H = 1) P(D_2 = 1 \\mid H = 1)  \\\\\n",
    "=& 0.98.\n",
    "\\end{aligned}\n",
    "$$\n",
    "\n",
    "现在我们可以应用边际化和乘法规则：\n",
    "\n",
    "$$\\begin{aligned}\n",
    "&P(D_1 = 1, D_2 = 1) \\\\\n",
    "=& P(D_1 = 1, D_2 = 1, H = 0) + P(D_1 = 1, D_2 = 1, H = 1)  \\\\\n",
    "=& P(D_1 = 1, D_2 = 1 \\mid H = 0)P(H=0) + P(D_1 = 1, D_2 = 1 \\mid H = 1)P(H=1)\\\\\n",
    "=& 0.00176955.\n",
    "\\end{aligned}\n",
    "$$\n",
    "\n",
    "最后，鉴于存在两次阳性检测，患者患有艾滋病的概率为\n",
    "\n",
    "$$\\begin{aligned}\n",
    "&P(H = 1 \\mid D_1 = 1, D_2 = 1)\\\\\n",
    "=& \\frac{P(D_1 = 1, D_2 = 1 \\mid H=1) P(H=1)}{P(D_1 = 1, D_2 = 1)} \\\\\n",
    "=& 0.8307.\n",
    "\\end{aligned}\n",
    "$$\n",
    "\n",
    "也就是说，第二次测试使我们能够对患病的情况获得更高的信心。\n",
    "尽管第二次检验比第一次检验的准确性要低得多，但它仍然显著提高我们的预测概率。"
   ]
  },
  {
   "cell_type": "markdown",
   "id": "0510d950",
   "metadata": {},
   "source": [
    "# 统计"
   ]
  },
  {
   "cell_type": "markdown",
   "id": "a4298a21",
   "metadata": {},
   "source": [
    "## 期望和方差\n",
    "\n",
    "为了概括概率分布的关键特征，我们需要一些测量方法。\n",
    "一个随机变量$X$的*期望*（expectation，或平均值（average））表示为\n",
    "\n",
    "$$E[X] = \\sum_{x} x P(X = x).$$\n",
    "\n",
    "当函数$f(x)$的输入是从分布$P$中抽取的随机变量时，$f(x)$的期望值为\n",
    "\n",
    "$$E_{x \\sim P}[f(x)] = \\sum_x f(x) P(x).$$\n",
    "\n",
    "在许多情况下，我们希望衡量随机变量$X$与其期望值的偏置。这可以通过方差来量化\n",
    "\n",
    "$$\\mathrm{Var}[X] = E\\left[(X - E[X])^2\\right] =\n",
    "E[X^2] - E[X]^2.$$\n",
    "\n",
    "方差的平方根被称为*标准差*（standard deviation）。\n",
    "随机变量函数的方差衡量的是：当从该随机变量分布中采样不同值$x$时，\n",
    "函数值偏离该函数的期望的程度：\n",
    "\n",
    "$$\\mathrm{Var}[f(x)] = E\\left[\\left(f(x) - E[f(x)]\\right)^2\\right].$$"
   ]
  }
 ],
 "metadata": {
  "kernelspec": {
   "display_name": "Python [conda env:myenv]",
   "language": "python",
   "name": "conda-env-myenv-py"
  },
  "language_info": {
   "codemirror_mode": {
    "name": "ipython",
    "version": 3
   },
   "file_extension": ".py",
   "mimetype": "text/x-python",
   "name": "python",
   "nbconvert_exporter": "python",
   "pygments_lexer": "ipython3",
   "version": "3.9.13"
  },
  "toc": {
   "base_numbering": 1,
   "nav_menu": {},
   "number_sections": true,
   "sideBar": true,
   "skip_h1_title": false,
   "title_cell": "Table of Contents",
   "title_sidebar": "Contents",
   "toc_cell": false,
   "toc_position": {},
   "toc_section_display": true,
   "toc_window_display": true
  },
  "vscode": {
   "interpreter": {
    "hash": "70c2c951b79418afa68fe3ba4cfcb65558a15271f3a0c4c0e1072a999987ff99"
   }
  }
 },
 "nbformat": 4,
 "nbformat_minor": 5
}
