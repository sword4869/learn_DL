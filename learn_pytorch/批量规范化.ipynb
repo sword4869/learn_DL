{
 "cells": [
  {
   "cell_type": "markdown",
   "id": "c496fa78",
   "metadata": {},
   "source": [
    "作用: 加速深层网络的收敛速度；更深层的网络很复杂，容易过拟合, 批量规范化起到正则化的作用.\n",
    "\n",
    "中间层中的变量（例如，多层感知机中的仿射变换输出）可能具有更广的变化范围, 如果一个层的可变值是另一层的100倍，对这两层而言梯度和学习率的效果就不一样.\n",
    "\n",
    "\n",
    "正是由于这个基于批量统计的标准化，才有了批量规范化的名称。\n",
    "\n",
    "\n",
    "计算流程:\n",
    "- 首先规范化输入\n",
    "\n",
    "  即通过减去其均值并除以其标准差，其中两者均基于当前小批量处理。 \n",
    "  \n",
    "- 接下来，我们应用比例系数和比例偏移。 \n",
    "\n",
    "应用标准化后，生成的小批量的平均值为0和单位方差为1。\n",
    "\n",
    "$$\\begin{aligned} \n",
    "\\mathrm{BN}(\\mathbf{x}) &= \\boldsymbol{\\gamma} \\odot \\frac{\\mathbf{x} - \\hat{\\boldsymbol{\\mu}}_\\mathcal{B}}{\\hat{\\boldsymbol{\\sigma}}_\\mathcal{B}} + \\boldsymbol{\\beta}, \\\\\n",
    "\\hat{\\boldsymbol{\\mu}}_\\mathcal{B} &= \\frac{1}{|\\mathcal{B}|} \\sum_{\\mathbf{x} \\in \\mathcal{B}} \\mathbf{x},\\\\\n",
    "\\hat{\\boldsymbol{\\sigma}}_\\mathcal{B}^2 &= \\frac{1}{|\\mathcal{B}|} \\sum_{\\mathbf{x} \\in \\mathcal{B}} (\\mathbf{x} - \\hat{\\boldsymbol{\\mu}}_{\\mathcal{B}})^2 + \\epsilon\n",
    "\\end{aligned}$$\n",
    "- $\\mathbf{x} \\in \\mathcal{B}$表示一个来自小批量$\\mathcal{B}$的输入\n",
    "- $\\hat{\\boldsymbol{\\mu}}_\\mathcal{B}$是小批量$\\mathcal{B}$的样本均值，$\\hat{\\boldsymbol{\\sigma}}_\\mathcal{B}$是小批量$\\mathcal{B}$的样本标准差。\n",
    "- $\\boldsymbol{\\gamma}$和$\\boldsymbol{\\beta}$是需要与其他模型参数一起学习的参数。\n",
    "- 我们在方差估计值中添加一个小的常量$\\epsilon > 0$，以确保我们永远不会尝试除以零\n",
    "\n",
    "如果我们尝试使用**大小为1的小批量**应用批量规范化，我们将无法学到任何东西。 这是因为在减去均值之后，每个隐藏单元将为0。 所以，只有使用足够大的小批量，批量规范化这种方法才是有效且稳定的。 请注意，在应用批量规范化时，批量大小的选择可能比没有批量规范化时更重要。\n",
    "\n",
    "批量规范化最适应$50 \\sim 100$范围中的中等批量大小。\n",
    "\n",
    "\n"
   ]
  },
  {
   "cell_type": "markdown",
   "id": "044db459",
   "metadata": {},
   "source": [
    "批量规范化是在卷积层或全连接层之后、相应的激活函数之前应用的。\n",
    "\n",
    "- 全连接层:\n",
    "\n",
    "  $$\\mathbf{h} = \\phi(\\mathrm{BN}(\\mathbf{W}\\mathbf{x} + \\mathbf{b}) ).$$\n",
    "\n",
    "- 卷积层:\n",
    "\n",
    "  当卷积有多个输出通道时，对这些通道的“每个”输出执行批量规范化.\n",
    "  \n",
    "  假设我们的小批量包含$m$个样本，并且对于每个通道，卷积的输出具有高度$p$和宽度$q$. 在每个输出通道的$m \\cdot p \\cdot q$个元素上同时执行每个批量规范化。\n",
    "  \n",
    "  每个通道都有自己的拉伸（scale）和偏移（shift）参数. "
   ]
  },
  {
   "cell_type": "markdown",
   "id": "7fe512d2",
   "metadata": {},
   "source": [
    "批量规范化层和暂退层一样，在训练模式和预测模式下计算不同。\n",
    "\n",
    "- 在训练过程中，我们无法得知使用整个数据集来估计平均值和方差，所以只能根据每个小批次的平均值和方差不断训练模型。（通过小批量统计数据规范化）\n",
    "\n",
    "- 在预测模式下，可以根据整个数据集精确计算批量规范化所需的平均值和方差。通过数据集统计规范化）"
   ]
  },
  {
   "cell_type": "markdown",
   "id": "54c3e460",
   "metadata": {},
   "source": [
    "## coding"
   ]
  },
  {
   "cell_type": "code",
   "execution_count": 1,
   "id": "27ca04ef",
   "metadata": {},
   "outputs": [
    {
     "ename": "NameError",
     "evalue": "name 'nn' is not defined",
     "output_type": "error",
     "traceback": [
      "\u001b[0;31m---------------------------------------------------------------------------\u001b[0m",
      "\u001b[0;31mNameError\u001b[0m                                 Traceback (most recent call last)",
      "Input \u001b[0;32mIn [1]\u001b[0m, in \u001b[0;36m<cell line: 1>\u001b[0;34m()\u001b[0m\n\u001b[0;32m----> 1\u001b[0m \u001b[43mnn\u001b[49m\u001b[38;5;241m.\u001b[39mBatchNorm2d(\u001b[38;5;241m16\u001b[39m),\n\u001b[1;32m      3\u001b[0m nn\u001b[38;5;241m.\u001b[39mBatchNorm1d(\u001b[38;5;241m120\u001b[39m),\n",
      "\u001b[0;31mNameError\u001b[0m: name 'nn' is not defined"
     ]
    }
   ],
   "source": [
    "nn.BatchNorm2d(16),\n",
    "\n",
    "nn.BatchNorm1d(120), "
   ]
  },
  {
   "cell_type": "markdown",
   "id": "21b5db37",
   "metadata": {},
   "source": [
    "例子: [](../net-example/lenet-batchnorm.ipynb)"
   ]
  },
  {
   "cell_type": "code",
   "execution_count": null,
   "id": "265b8b40",
   "metadata": {},
   "outputs": [],
   "source": [
    "# 样本数为1就报错, 可能是因为方差为0?\n",
    "X = torch.rand(size=(2, 1, 28, 28), dtype=torch.float32).to(device)\n",
    "for layer in net:\n",
    "    X = layer(X)\n",
    "    print(f'output shape: {layer.__class__.__name__: <15}{X.shape}')"
   ]
  }
 ],
 "metadata": {
  "kernelspec": {
   "display_name": "Python 3.9.13 ('myenv')",
   "language": "python",
   "name": "python3"
  },
  "language_info": {
   "codemirror_mode": {
    "name": "ipython",
    "version": 3
   },
   "file_extension": ".py",
   "mimetype": "text/x-python",
   "name": "python",
   "nbconvert_exporter": "python",
   "pygments_lexer": "ipython3",
   "version": "3.9.13"
  },
  "toc": {
   "base_numbering": 1,
   "nav_menu": {},
   "number_sections": true,
   "sideBar": true,
   "skip_h1_title": false,
   "title_cell": "Table of Contents",
   "title_sidebar": "Contents",
   "toc_cell": false,
   "toc_position": {},
   "toc_section_display": true,
   "toc_window_display": false
  },
  "vscode": {
   "interpreter": {
    "hash": "70c2c951b79418afa68fe3ba4cfcb65558a15271f3a0c4c0e1072a999987ff99"
   }
  }
 },
 "nbformat": 4,
 "nbformat_minor": 5
}
