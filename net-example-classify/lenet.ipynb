{
 "cells": [
  {
   "cell_type": "markdown",
   "id": "771564d1",
   "metadata": {},
   "source": [
    "![](../image/lenet.svg)\n",
    "![](../image/lenet-vert.svg)"
   ]
  },
  {
   "cell_type": "markdown",
   "id": "9e83fdc1",
   "metadata": {},
   "source": [
    "卷积:\n",
    "- 2个5x5的卷积层, 3个全连接层\n",
    "\n",
    "其他:\n",
    "\n",
    "- 使用古老的sigmoid激活函数(而非ReLU), 平均汇聚层(而非最大汇聚层)"
   ]
  },
  {
   "cell_type": "code",
   "execution_count": 1,
   "id": "a3d0ff3b",
   "metadata": {},
   "outputs": [],
   "source": [
    "import torch\n",
    "# torchvision.datasets.FashionMNIST\n",
    "import torchvision\n",
    "# 修改数据集格式\n",
    "from torchvision import transforms\n",
    "# nn块\n",
    "from torch import nn"
   ]
  },
  {
   "cell_type": "code",
   "execution_count": 2,
   "id": "de6457d1",
   "metadata": {},
   "outputs": [
    {
     "name": "stdout",
     "output_type": "stream",
     "text": [
      "cuda\n"
     ]
    }
   ],
   "source": [
    "# -----------参数-----------\n",
    "device = torch.device(\"cuda\" if torch.cuda.is_available() else \"cpu\")\n",
    "print(device)\n",
    "batch_size = 128\n",
    "lr = 0.1\n",
    "num_epochs = 20"
   ]
  },
  {
   "cell_type": "code",
   "execution_count": 3,
   "id": "3eeca495",
   "metadata": {},
   "outputs": [],
   "source": [
    "trans = transforms.ToTensor()\n",
    "mnist_train_totensor = torchvision.datasets.FashionMNIST(\n",
    "    root=\"../data\",\n",
    "    train=True,\n",
    "    download=True,\n",
    "    transform=trans\n",
    ")\n",
    "mnist_test_totensor = torchvision.datasets.FashionMNIST(\n",
    "    root=\"../data\",\n",
    "    train=False,\n",
    "    download=True,\n",
    "    transform=trans\n",
    ")"
   ]
  },
  {
   "cell_type": "code",
   "execution_count": 4,
   "id": "70143a46",
   "metadata": {},
   "outputs": [
    {
     "data": {
      "text/plain": [
       "torch.Size([1, 28, 28])"
      ]
     },
     "execution_count": 4,
     "metadata": {},
     "output_type": "execute_result"
    }
   ],
   "source": [
    "# [C, H, W]\n",
    "mnist_train_totensor[0][0].shape"
   ]
  },
  {
   "cell_type": "code",
   "execution_count": 5,
   "id": "95d5a0c9",
   "metadata": {},
   "outputs": [],
   "source": [
    "# shuffle, 打乱\n",
    "# num_workers, 使用4个进程来读取数据\n",
    "train_iter = torch.utils.data.DataLoader(\n",
    "    mnist_train_totensor, batch_size, shuffle=True, num_workers=4)\n",
    "test_iter = torch.utils.data.DataLoader(\n",
    "    mnist_test_totensor, batch_size, shuffle=True, num_workers=4)"
   ]
  },
  {
   "cell_type": "code",
   "execution_count": 9,
   "id": "b25a40fb",
   "metadata": {},
   "outputs": [
    {
     "name": "stdout",
     "output_type": "stream",
     "text": [
      "torch.Size([128, 1, 28, 28])\n"
     ]
    }
   ],
   "source": [
    "# [B, C, H, W]\n",
    "for batch, (X, y) in enumerate(train_iter):\n",
    "    print(X.shape)\n",
    "    break"
   ]
  },
  {
   "cell_type": "code",
   "execution_count": 6,
   "id": "88a9be21",
   "metadata": {},
   "outputs": [
    {
     "data": {
      "text/plain": [
       "Sequential(\n",
       "  (0): Conv2d(1, 6, kernel_size=(5, 5), stride=(1, 1), padding=(2, 2))\n",
       "  (1): Sigmoid()\n",
       "  (2): AvgPool2d(kernel_size=2, stride=2, padding=0)\n",
       "  (3): Conv2d(6, 16, kernel_size=(5, 5), stride=(1, 1))\n",
       "  (4): Sigmoid()\n",
       "  (5): AvgPool2d(kernel_size=2, stride=2, padding=0)\n",
       "  (6): Flatten(start_dim=1, end_dim=-1)\n",
       "  (7): Linear(in_features=400, out_features=120, bias=True)\n",
       "  (8): Sigmoid()\n",
       "  (9): Linear(in_features=120, out_features=84, bias=True)\n",
       "  (10): Sigmoid()\n",
       "  (11): Linear(in_features=84, out_features=10, bias=True)\n",
       ")"
      ]
     },
     "execution_count": 6,
     "metadata": {},
     "output_type": "execute_result"
    }
   ],
   "source": [
    "net = nn.Sequential(\n",
    "    nn.Conv2d(1, 6, kernel_size=5, padding=2),\n",
    "    nn.Sigmoid(),\n",
    "    nn.AvgPool2d(kernel_size=2, stride=2),\n",
    "    nn.Conv2d(6, 16, kernel_size=5),\n",
    "    nn.Sigmoid(),\n",
    "    nn.AvgPool2d(kernel_size=2, stride=2),\n",
    "    nn.Flatten(),\n",
    "    nn.Linear(16 * 5 * 5, 120),\n",
    "    nn.Sigmoid(),\n",
    "    nn.Linear(120, 84),\n",
    "    nn.Sigmoid(),\n",
    "    nn.Linear(84, 10)\n",
    ").to(device)\n",
    "net"
   ]
  },
  {
   "cell_type": "code",
   "execution_count": 7,
   "id": "d98faf50",
   "metadata": {},
   "outputs": [
    {
     "name": "stdout",
     "output_type": "stream",
     "text": [
      "input shape:   torch.Size([1, 1, 28, 28])\n",
      "Conv2d         torch.Size([1, 6, 28, 28])\n",
      "Sigmoid        torch.Size([1, 6, 28, 28])\n",
      "AvgPool2d      torch.Size([1, 6, 14, 14])\n",
      "Conv2d         torch.Size([1, 16, 10, 10])\n",
      "Sigmoid        torch.Size([1, 16, 10, 10])\n",
      "AvgPool2d      torch.Size([1, 16, 5, 5])\n",
      "Flatten        torch.Size([1, 400])\n",
      "Linear         torch.Size([1, 120])\n",
      "Sigmoid        torch.Size([1, 120])\n",
      "Linear         torch.Size([1, 84])\n",
      "Sigmoid        torch.Size([1, 84])\n",
      "Linear         torch.Size([1, 10])\n"
     ]
    }
   ],
   "source": [
    "X = torch.rand(size=(1, 1, 28, 28), dtype=torch.float32).to(device)\n",
    "print(f'input shape:   {X.shape}')\n",
    "for layer in net:\n",
    "    X = layer(X)\n",
    "    print(f'{layer.__class__.__name__: <15}{X.shape}')"
   ]
  },
  {
   "cell_type": "code",
   "execution_count": 8,
   "id": "b3de9d62",
   "metadata": {},
   "outputs": [],
   "source": [
    "def init_weights(m):\n",
    "    if type(m) in [nn.Linear, nn.Conv2d]:\n",
    "        nn.init.xavier_uniform_(m.weight)\n",
    "\n",
    "\n",
    "net.apply(init_weights)\n",
    "optimizer = torch.optim.SGD(net.parameters(), lr=lr)\n",
    "loss = nn.CrossEntropyLoss()"
   ]
  },
  {
   "cell_type": "code",
   "execution_count": 8,
   "id": "633bacdd",
   "metadata": {},
   "outputs": [],
   "source": [
    "def train_loop(train_iter, net, loss, optimizer):\n",
    "    # 共有几批\n",
    "    num_batchs = len(train_iter)\n",
    "    # 总平均loss\n",
    "    total_train_loss = 0\n",
    "    for batch, (X, y) in enumerate(train_iter):\n",
    "        # move to device\n",
    "        X, y = X.to(device), y.to(device)\n",
    "        # 该批的推断结果\n",
    "        y_hat = net(X)\n",
    "\n",
    "        train_loss = loss(y_hat, y)\n",
    "        total_train_loss += train_loss.item()\n",
    "\n",
    "        # Backpropagation\n",
    "        optimizer.zero_grad()\n",
    "        train_loss.backward()\n",
    "        optimizer.step()\n",
    "\n",
    "        # --------打印进度\n",
    "        print(f\"\\r[{batch+1:>8d}/{num_batchs:>8d}]  \", end='')\n",
    "\n",
    "    return total_train_loss / num_batchs"
   ]
  },
  {
   "cell_type": "code",
   "execution_count": 9,
   "id": "fd61b9f3",
   "metadata": {},
   "outputs": [
    {
     "name": "stdout",
     "output_type": "stream",
     "text": [
      "[     469/     469]  epoch 1, total_train_loss 2.308835\n",
      "[     469/     469]  epoch 2, total_train_loss 2.305790\n",
      "[     469/     469]  epoch 3, total_train_loss 2.294883\n",
      "[     469/     469]  epoch 4, total_train_loss 1.825610\n",
      "[     469/     469]  epoch 5, total_train_loss 1.135702\n",
      "[     469/     469]  epoch 6, total_train_loss 0.955615\n",
      "[     469/     469]  epoch 7, total_train_loss 0.871286\n",
      "[     469/     469]  epoch 8, total_train_loss 0.819198\n",
      "[     469/     469]  epoch 9, total_train_loss 0.772197\n",
      "[     469/     469]  epoch 10, total_train_loss 0.724309\n",
      "[     469/     469]  epoch 11, total_train_loss 0.685572\n",
      "[     469/     469]  epoch 12, total_train_loss 0.655792\n",
      "[     469/     469]  epoch 13, total_train_loss 0.634837\n",
      "[     469/     469]  epoch 14, total_train_loss 0.617224\n",
      "[     469/     469]  epoch 15, total_train_loss 0.603872\n",
      "[     469/     469]  epoch 16, total_train_loss 0.591482\n",
      "[     469/     469]  epoch 17, total_train_loss 0.579464\n",
      "[     469/     469]  epoch 18, total_train_loss 0.569060\n",
      "[     469/     469]  epoch 19, total_train_loss 0.559264\n",
      "[     469/     469]  epoch 20, total_train_loss 0.549401\n"
     ]
    }
   ],
   "source": [
    "# ---------训练\n",
    "for epoch in range(num_epochs):\n",
    "    total_train_loss = train_loop(train_iter, net, loss, optimizer)\n",
    "    print(f'epoch {epoch + 1}, total_train_loss {total_train_loss:f}')"
   ]
  },
  {
   "cell_type": "code",
   "execution_count": 11,
   "id": "07b82ede",
   "metadata": {},
   "outputs": [
    {
     "name": "stdout",
     "output_type": "stream",
     "text": [
      "\r\n",
      "[       1/      79]  \r\n",
      "[       2/      79]  \r\n",
      "[       3/      79]  \r\n",
      "[       4/      79]  \r\n",
      "[       5/      79]  \r\n",
      "[       6/      79]  \r\n",
      "[       7/      79]  \r\n",
      "[       8/      79]  \r\n",
      "[       9/      79]  \r\n",
      "[      10/      79]  \r\n",
      "[      11/      79]  \r\n",
      "[      12/      79]  \r\n",
      "[      13/      79]  \r\n",
      "[      14/      79]  \r\n",
      "[      15/      79]  \r\n",
      "[      16/      79]  \r\n",
      "[      17/      79]  \r\n",
      "[      18/      79]  \r\n",
      "[      19/      79]  \r\n",
      "[      20/      79]  \r\n",
      "[      21/      79]  \r\n",
      "[      22/      79]  \r\n",
      "[      23/      79]  \r\n",
      "[      24/      79]  \r\n",
      "[      25/      79]  \r\n",
      "[      26/      79]  \r\n",
      "[      27/      79]  \r\n",
      "[      28/      79]  \r\n",
      "[      29/      79]  \r\n",
      "[      30/      79]  \r\n",
      "[      31/      79]  \r\n",
      "[      32/      79]  \r\n",
      "[      33/      79]  \r\n",
      "[      34/      79]  \r\n",
      "[      35/      79]  \r\n",
      "[      36/      79]  \r\n",
      "[      37/      79]  \r\n",
      "[      38/      79]  \r\n",
      "[      39/      79]  \r\n",
      "[      40/      79]  \r\n",
      "[      41/      79]  \r\n",
      "[      42/      79]  \r\n",
      "[      43/      79]  \r\n",
      "[      44/      79]  \r\n",
      "[      45/      79]  \r\n",
      "[      46/      79]  \r\n",
      "[      47/      79]  \r\n",
      "[      48/      79]  \r\n",
      "[      49/      79]  \r\n",
      "[      50/      79]  \r\n",
      "[      51/      79]  \r\n",
      "[      52/      79]  \r\n",
      "[      53/      79]  \r\n",
      "[      54/      79]  \r\n",
      "[      55/      79]  \r\n",
      "[      56/      79]  \r\n",
      "[      57/      79]  \r\n",
      "[      58/      79]  \r\n",
      "[      59/      79]  \r\n",
      "[      60/      79]  \r\n",
      "[      61/      79]  \r\n",
      "[      62/      79]  \r\n",
      "[      63/      79]  \r\n",
      "[      64/      79]  \r\n",
      "[      65/      79]  \r\n",
      "[      66/      79]  \r\n",
      "[      67/      79]  \r\n",
      "[      68/      79]  \r\n",
      "[      69/      79]  \r\n",
      "[      70/      79]  \r\n",
      "[      71/      79]  \r\n",
      "[      72/      79]  \r\n",
      "[      73/      79]  \r\n",
      "[      74/      79]  \r\n",
      "[      75/      79]  \r\n",
      "[      76/      79]  \r\n",
      "[      77/      79]  \r\n",
      "[      78/      79]  \r\n",
      "[      79/      79]  \n",
      "Test: Accuracy: 78.6%, Avg loss: 0.560196\n"
     ]
    }
   ],
   "source": [
    "# ----------预测\n",
    "def test_net(test_iter, net, loss):\n",
    "    # 共有几批\n",
    "    num_batchs = len(test_iter)\n",
    "    # 总平均loss, 总平均准确率\n",
    "    total_test_loss, total_correct = 0, 0\n",
    "    # 设定评估模式\n",
    "    net.eval()\n",
    "    # 不要梯度\n",
    "    with torch.no_grad():\n",
    "        for batch, (X, y) in enumerate(test_iter):\n",
    "            # move to device\n",
    "            X, y = X.to(device), y.to(device)\n",
    "            y_hat = net(X)\n",
    "\n",
    "            test_loss = loss(y_hat, y)\n",
    "            # 分类0,1,2,3的类别对的上否\n",
    "            correct = (y_hat.argmax(1) == y).float().sum().item()\n",
    "            total_test_loss += test_loss.item()\n",
    "            total_correct += correct/len(X)\n",
    "\n",
    "            # --------打印进度\n",
    "            print(f\"\\r[{batch+1:>8d}/{num_batchs:>8d}]  \", end='')\n",
    "\n",
    "    total_test_loss /= num_batchs\n",
    "    total_correct /= num_batchs\n",
    "    print(\n",
    "        f\"\\nTest: Accuracy: {total_correct:.1%}, Avg loss: {total_test_loss:f}\")\n",
    "\n",
    "\n",
    "test_net(test_iter, net, loss)"
   ]
  },
  {
   "cell_type": "code",
   "execution_count": null,
   "id": "78c0ab28",
   "metadata": {},
   "outputs": [],
   "source": []
  }
 ],
 "metadata": {
  "kernelspec": {
   "display_name": "nerf",
   "language": "python",
   "name": "python3"
  },
  "language_info": {
   "codemirror_mode": {
    "name": "ipython",
    "version": 3
   },
   "file_extension": ".py",
   "mimetype": "text/x-python",
   "name": "python",
   "nbconvert_exporter": "python",
   "pygments_lexer": "ipython3",
   "version": "3.10.12"
  },
  "toc": {
   "base_numbering": 1,
   "nav_menu": {},
   "number_sections": true,
   "sideBar": true,
   "skip_h1_title": false,
   "title_cell": "Table of Contents",
   "title_sidebar": "Contents",
   "toc_cell": false,
   "toc_position": {},
   "toc_section_display": true,
   "toc_window_display": false
  }
 },
 "nbformat": 4,
 "nbformat_minor": 5
}
