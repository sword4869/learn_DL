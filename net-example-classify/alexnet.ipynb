{
 "cells": [
  {
   "cell_type": "markdown",
   "id": "18e5369b",
   "metadata": {},
   "source": [
    "\n",
    "\n",
    "![](../image/alexnet.png)\n",
    "\n",
    "卷积:\n",
    "- 五个卷积层(11x11, 5x5, 3个3x3).\n",
    "\n",
    "- 三个全连接层\n",
    "\n",
    "改进:\n",
    "\n",
    "- 增加卷积层数目, 并使用不同大小的卷积核\n",
    "\n",
    "- 相对于LeNet, AlexNet使用**ReLU**和**最大汇聚层**.\n",
    "\n",
    "- AlexNet通过**暂退法**控制全连接层的模型复杂度，而LeNet只使用了权重衰减。\n",
    "\n",
    "数据集\n",
    "\n",
    "- AlexNet在训练时增加了大量的图像增强数据，如翻转、裁切和变色。\n",
    "    \n",
    "  将AlexNet直接应用于Fashion-MNIST的一个问题是，Fashion-MNIST图像的分辨率（$28 \\times 28$像素）(低于ImageNet图像)\n",
    "为了解决这个问题，(**我们将它们增加到$224 \\times 224$**)（通常来讲这不是一个明智的做法，但我们在这里这样做是为了有效使用AlexNet架构）。"
   ]
  },
  {
   "cell_type": "code",
   "execution_count": 1,
   "id": "bfce19af",
   "metadata": {},
   "outputs": [],
   "source": [
    "import torch\n",
    "# nn块\n",
    "from torch import nn\n",
    "# data.DataLoader\n",
    "from torch.utils.data import DataLoader\n",
    "# torchvision.datasets.FashionMNIST\n",
    "import torchvision\n",
    "# 修改数据集格式\n",
    "from torchvision import transforms"
   ]
  },
  {
   "cell_type": "code",
   "execution_count": 3,
   "id": "4181785f",
   "metadata": {},
   "outputs": [
    {
     "name": "stdout",
     "output_type": "stream",
     "text": [
      "cuda\n"
     ]
    }
   ],
   "source": [
    "# -----------参数-----------\n",
    "device = torch.device(\"cuda\" if torch.cuda.is_available() else \"cpu\")\n",
    "print(device)\n",
    "batch_size = 128\n",
    "lr = 3e-2\n",
    "num_epochs=10"
   ]
  },
  {
   "cell_type": "code",
   "execution_count": 4,
   "id": "1f773125",
   "metadata": {},
   "outputs": [
    {
     "data": {
      "text/plain": [
       "torch.Size([1, 224, 224])"
      ]
     },
     "execution_count": 4,
     "metadata": {},
     "output_type": "execute_result"
    }
   ],
   "source": [
    "# 列表\n",
    "trans = [\n",
    "    transforms.Resize((224, 224)),\n",
    "    transforms.ToTensor(),\n",
    "]\n",
    "# 转化列表为torchvision.transforms.transforms.Compose对象, 这样就能写 transform=trans\n",
    "trans = transforms.Compose(trans)\n",
    "mnist_train_totensor = torchvision.datasets.FashionMNIST(\n",
    "    root=\"../data\",\n",
    "    train=True,\n",
    "    download=True,\n",
    "    transform=trans\n",
    ")\n",
    "mnist_test_totensor = torchvision.datasets.FashionMNIST(\n",
    "    root=\"../data\",\n",
    "    train=False,\n",
    "    download=True,\n",
    "    transform=trans\n",
    ")\n",
    "# 28*28, 不用转化大小\n",
    "# mnist_train_totensor[0][0]\n",
    "mnist_train_totensor[0][0].shape"
   ]
  },
  {
   "cell_type": "code",
   "execution_count": 5,
   "id": "9595900b",
   "metadata": {},
   "outputs": [],
   "source": [
    "# shuffle, 打乱\n",
    "# num_workers, 使用4个进程来读取数据\n",
    "train_iter = DataLoader(\n",
    "    mnist_train_totensor, batch_size, shuffle=True, num_workers=4)\n",
    "test_iter = DataLoader(\n",
    "    mnist_test_totensor, batch_size, shuffle=True, num_workers=4)"
   ]
  },
  {
   "cell_type": "code",
   "execution_count": 6,
   "id": "3441d86f",
   "metadata": {
    "scrolled": true
   },
   "outputs": [
    {
     "data": {
      "text/plain": [
       "Sequential(\n",
       "  (0): Conv2d(1, 96, kernel_size=(11, 11), stride=(4, 4), padding=(1, 1))\n",
       "  (1): ReLU()\n",
       "  (2): MaxPool2d(kernel_size=3, stride=2, padding=0, dilation=1, ceil_mode=False)\n",
       "  (3): Conv2d(96, 256, kernel_size=(5, 5), stride=(1, 1), padding=(2, 2))\n",
       "  (4): ReLU()\n",
       "  (5): MaxPool2d(kernel_size=3, stride=2, padding=0, dilation=1, ceil_mode=False)\n",
       "  (6): Conv2d(256, 384, kernel_size=(3, 3), stride=(1, 1), padding=(1, 1))\n",
       "  (7): ReLU()\n",
       "  (8): Conv2d(384, 384, kernel_size=(3, 3), stride=(1, 1), padding=(1, 1))\n",
       "  (9): ReLU()\n",
       "  (10): Conv2d(384, 256, kernel_size=(3, 3), stride=(1, 1), padding=(1, 1))\n",
       "  (11): ReLU()\n",
       "  (12): MaxPool2d(kernel_size=3, stride=2, padding=0, dilation=1, ceil_mode=False)\n",
       "  (13): Flatten(start_dim=1, end_dim=-1)\n",
       "  (14): Linear(in_features=6400, out_features=4096, bias=True)\n",
       "  (15): ReLU()\n",
       "  (16): Dropout(p=0.5, inplace=False)\n",
       "  (17): Linear(in_features=4096, out_features=4096, bias=True)\n",
       "  (18): ReLU()\n",
       "  (19): Dropout(p=0.5, inplace=False)\n",
       "  (20): Linear(in_features=4096, out_features=10, bias=True)\n",
       ")"
      ]
     },
     "execution_count": 6,
     "metadata": {},
     "output_type": "execute_result"
    }
   ],
   "source": [
    "net = nn.Sequential(\n",
    "    # 这里，我们使用一个11*11的更大窗口来捕捉对象。\n",
    "    # 同时，步幅为4，以减少输出的高度和宽度。\n",
    "    # 另外，输出通道的数目远大于LeNet\n",
    "    nn.Conv2d(1, 96, kernel_size=11, stride=4, padding=1),\n",
    "    nn.ReLU(),\n",
    "    nn.MaxPool2d(kernel_size=3, stride=2),\n",
    "    \n",
    "    # 减小卷积窗口，使用填充为2来使得输入与输出的高和宽一致，且增大输出通道数\n",
    "    nn.Conv2d(96, 256, kernel_size=5, padding=2),\n",
    "    nn.ReLU(),\n",
    "    nn.MaxPool2d(kernel_size=3, stride=2),\n",
    "    \n",
    "    # 使用三个连续的卷积层和较小的卷积窗口。\n",
    "    # 除了最后的卷积层，输出通道的数量进一步增加。\n",
    "    # 在前两个卷积层之后，汇聚层不用于减少输入的高度和宽度\n",
    "    nn.Conv2d(256, 384, kernel_size=3, padding=1),\n",
    "    nn.ReLU(),\n",
    "    \n",
    "    nn.Conv2d(384, 384, kernel_size=3, padding=1),\n",
    "    nn.ReLU(),\n",
    "    \n",
    "    nn.Conv2d(384, 256, kernel_size=3, padding=1),\n",
    "    nn.ReLU(),\n",
    "    nn.MaxPool2d(kernel_size=3, stride=2),\n",
    "    \n",
    "    nn.Flatten(),\n",
    "    # 这里，全连接层的输出数量是LeNet中的好几倍。使用dropout层来减轻过拟合\n",
    "    \n",
    "    nn.Linear(6400, 4096),\n",
    "    nn.ReLU(),\n",
    "    nn.Dropout(p=0.5),\n",
    "    \n",
    "    nn.Linear(4096, 4096),\n",
    "    nn.ReLU(),\n",
    "    nn.Dropout(p=0.5),\n",
    "    \n",
    "    # 最后是输出层。由于这里使用Fashion-MNIST，所以用类别数为10，而非论文中的1000\n",
    "    nn.Linear(4096, 10)\n",
    ").to(device)\n",
    "net"
   ]
  },
  {
   "cell_type": "code",
   "execution_count": 7,
   "id": "c7c5071e",
   "metadata": {},
   "outputs": [
    {
     "name": "stdout",
     "output_type": "stream",
     "text": [
      "output shape: Conv2d         torch.Size([1, 96, 54, 54])\n",
      "output shape: ReLU           torch.Size([1, 96, 54, 54])\n",
      "output shape: MaxPool2d      torch.Size([1, 96, 26, 26])\n",
      "output shape: Conv2d         torch.Size([1, 256, 26, 26])\n",
      "output shape: ReLU           torch.Size([1, 256, 26, 26])\n",
      "output shape: MaxPool2d      torch.Size([1, 256, 12, 12])\n",
      "output shape: Conv2d         torch.Size([1, 384, 12, 12])\n",
      "output shape: ReLU           torch.Size([1, 384, 12, 12])\n",
      "output shape: Conv2d         torch.Size([1, 384, 12, 12])\n",
      "output shape: ReLU           torch.Size([1, 384, 12, 12])\n",
      "output shape: Conv2d         torch.Size([1, 256, 12, 12])\n",
      "output shape: ReLU           torch.Size([1, 256, 12, 12])\n",
      "output shape: MaxPool2d      torch.Size([1, 256, 5, 5])\n",
      "output shape: Flatten        torch.Size([1, 6400])\n",
      "output shape: Linear         torch.Size([1, 4096])\n",
      "output shape: ReLU           torch.Size([1, 4096])\n",
      "output shape: Dropout        torch.Size([1, 4096])\n",
      "output shape: Linear         torch.Size([1, 4096])\n",
      "output shape: ReLU           torch.Size([1, 4096])\n",
      "output shape: Dropout        torch.Size([1, 4096])\n",
      "output shape: Linear         torch.Size([1, 10])\n"
     ]
    }
   ],
   "source": [
    "X = torch.rand(size=(1, 1, 224, 224), dtype=torch.float32).to(device)\n",
    "for layer in net:\n",
    "    X = layer(X)\n",
    "    print(f'output shape: {layer.__class__.__name__: <15}{X.shape}')"
   ]
  },
  {
   "cell_type": "code",
   "execution_count": 8,
   "id": "91869636",
   "metadata": {},
   "outputs": [],
   "source": [
    "def init_weights(m):\n",
    "    if type(m) == nn.Linear or type(m) == nn.Conv2d:\n",
    "        nn.init.xavier_uniform_(m.weight)\n",
    "\n",
    "\n",
    "net.apply(init_weights)\n",
    "optimizer = torch.optim.SGD(net.parameters(), lr=lr)\n",
    "loss = nn.CrossEntropyLoss()"
   ]
  },
  {
   "cell_type": "code",
   "execution_count": 9,
   "id": "d874a081",
   "metadata": {},
   "outputs": [],
   "source": [
    "def train_loop(train_iter, net, loss, optimizer):\n",
    "    # 共有几批\n",
    "    num_batchs = len(train_iter)\n",
    "    # 总平均loss\n",
    "    total_train_loss = 0\n",
    "    for batch, (X, y) in enumerate(train_iter):\n",
    "        # move to device\n",
    "        X, y = X.to(device), y.to(device)\n",
    "        # 该批的推断结果\n",
    "        y_hat = net(X)\n",
    "        \n",
    "        train_loss = loss(y_hat, y)\n",
    "        total_train_loss += train_loss.item()\n",
    "\n",
    "        # Backpropagation\n",
    "        optimizer.zero_grad()\n",
    "        train_loss.backward()\n",
    "        optimizer.step()\n",
    "\n",
    "        # --------打印进度        \n",
    "        print(f\"\\r[{batch+1:>8d}/{num_batchs:>8d}]  \", end='')\n",
    "    \n",
    "    return total_train_loss / num_batchs\n",
    "\n",
    "# ---------训练\n",
    "for epoch in range(num_epochs):\n",
    "    total_train_loss = train_loop(train_iter, net, loss, optimizer)\n",
    "    print(f'epoch {epoch + 1}, total_train_loss {total_train_loss:f}')"
   ]
  },
  {
   "cell_type": "code",
   "execution_count": null,
   "id": "46185851",
   "metadata": {},
   "outputs": [
    {
     "name": "stdout",
     "output_type": "stream",
     "text": [
      "[      79/      79]  \n",
      "Test: Accuracy: 87.6%, Avg loss: 0.332149\n"
     ]
    }
   ],
   "source": [
    "# ----------预测\n",
    "def test_net(test_iter, net, loss):\n",
    "    # 共有几批\n",
    "    num_batchs = len(test_iter)\n",
    "    # 总平均loss, 总平均准确率\n",
    "    total_test_loss, total_correct = 0, 0\n",
    "    # 设定评估模式\n",
    "    net.eval()\n",
    "    # 不要梯度\n",
    "    with torch.no_grad():\n",
    "        for batch, (X, y) in enumerate(test_iter):\n",
    "            # move to device\n",
    "            X, y = X.to(device), y.to(device)\n",
    "            y_hat = net(X)\n",
    "\n",
    "            test_loss = loss(y_hat, y)\n",
    "            # 分类0,1,2,3的类别对的上否\n",
    "            correct = (y_hat.argmax(1) == y).float().sum().item()\n",
    "            total_test_loss += test_loss.item()\n",
    "            total_correct += correct/len(X)\n",
    "\n",
    "            # --------打印进度\n",
    "            print(f\"\\r[{batch+1:>8d}/{num_batchs:>8d}]  \", end='')\n",
    "\n",
    "\n",
    "    total_test_loss /= num_batchs\n",
    "    total_correct /= num_batchs\n",
    "    print(\n",
    "        f\"\\nTest: Accuracy: {total_correct:.1%}, Avg loss: {total_test_loss:f}\")\n",
    "    \n",
    "test_net(test_iter, net, loss)"
   ]
  },
  {
   "cell_type": "code",
   "execution_count": null,
   "id": "59b29d36",
   "metadata": {},
   "outputs": [],
   "source": [
    " "
   ]
  }
 ],
 "metadata": {
  "kernelspec": {
   "display_name": "Python 3.9.13 ('myenv')",
   "language": "python",
   "name": "python3"
  },
  "language_info": {
   "codemirror_mode": {
    "name": "ipython",
    "version": 3
   },
   "file_extension": ".py",
   "mimetype": "text/x-python",
   "name": "python",
   "nbconvert_exporter": "python",
   "pygments_lexer": "ipython3",
   "version": "3.10.11"
  },
  "toc": {
   "base_numbering": 1,
   "nav_menu": {},
   "number_sections": true,
   "sideBar": true,
   "skip_h1_title": false,
   "title_cell": "Table of Contents",
   "title_sidebar": "Contents",
   "toc_cell": false,
   "toc_position": {},
   "toc_section_display": true,
   "toc_window_display": false
  },
  "vscode": {
   "interpreter": {
    "hash": "70c2c951b79418afa68fe3ba4cfcb65558a15271f3a0c4c0e1072a999987ff99"
   }
  }
 },
 "nbformat": 4,
 "nbformat_minor": 5
}
