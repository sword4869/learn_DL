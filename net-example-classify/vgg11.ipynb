{
 "cells": [
  {
   "attachments": {},
   "cell_type": "markdown",
   "id": "18e5369b",
   "metadata": {},
   "source": [
    "![](../image/vgg11.svg)\n",
    "\n",
    "vgg卷积块:\n",
    "\n",
    "- 都是3x3的卷积核大小\n",
    "- (卷积层+ReLU)*n个 + 最大汇聚层\n",
    "\n",
    "\n",
    "vgg11整体架构:\n",
    "- 8个卷积层和3个全连接层，因此它通常被称为VGG-11。\n",
    "\n",
    "- 5个卷积块，其中前两个块各有1个卷积层，后三个块各包含2个卷积层。 第一个模块有64个输出通道，每个后续模块将输出通道数量翻倍，直到该数字达到512。\n",
    "\n",
    "vgg19整体架构: \n",
    "- 16个卷积层和3个全连接层\n",
    "\n",
    "- 5个卷积块，其中前两个块各有2个卷积层，后三个块各包含4个卷积层。 第一个模块有64个输出通道，每个后续模块将输出通道数量翻倍，直到该数字达到512。\n",
    "\n",
    "\n",
    "和AlexNet的不同:\n",
    "- AlexNet使用不同大小的卷积核, vgg使用相同大小的卷积核\n",
    "\n",
    "\n",
    "\n",
    "怎么感觉, vgg的工作就是搞了个重复块的形式来重写一下老工作."
   ]
  },
  {
   "cell_type": "code",
   "execution_count": 1,
   "id": "bfce19af",
   "metadata": {},
   "outputs": [],
   "source": [
    "import torch\n",
    "# torchvision.datasets.FashionMNIST\n",
    "import torchvision\n",
    "# 修改数据集格式\n",
    "from torchvision import transforms\n",
    "# data.DataLoader\n",
    "from torch.utils import data\n",
    "# nn块\n",
    "from torch import nn"
   ]
  },
  {
   "cell_type": "code",
   "execution_count": 2,
   "id": "4181785f",
   "metadata": {},
   "outputs": [
    {
     "name": "stdout",
     "output_type": "stream",
     "text": [
      "cuda\n"
     ]
    }
   ],
   "source": [
    "# -----------参数-----------\n",
    "device = torch.device(\"cuda\" if torch.cuda.is_available() else \"cpu\")\n",
    "print(device)\n",
    "batch_size = 128\n",
    "lr = 3e-2\n",
    "num_epochs=10"
   ]
  },
  {
   "cell_type": "code",
   "execution_count": 3,
   "id": "1f773125",
   "metadata": {},
   "outputs": [
    {
     "data": {
      "text/plain": [
       "torch.Size([1, 224, 224])"
      ]
     },
     "execution_count": 3,
     "metadata": {},
     "output_type": "execute_result"
    }
   ],
   "source": [
    "# 列表\n",
    "trans = [\n",
    "    transforms.Resize((224, 224)),\n",
    "    transforms.ToTensor(),\n",
    "]\n",
    "# 转化列表为torchvision.transforms.transforms.Compose对象, 这样就能写 transform=trans\n",
    "trans = transforms.Compose(trans)\n",
    "mnist_train_totensor = torchvision.datasets.FashionMNIST(\n",
    "    root=\"../data\",\n",
    "    train=True,\n",
    "    download=True,\n",
    "    transform=trans\n",
    ")\n",
    "mnist_test_totensor = torchvision.datasets.FashionMNIST(\n",
    "    root=\"../data\",\n",
    "    train=False,\n",
    "    download=True,\n",
    "    transform=trans\n",
    ")\n",
    "# 28*28, 不用转化大小\n",
    "# mnist_train_totensor[0][0]\n",
    "mnist_train_totensor[0][0].shape"
   ]
  },
  {
   "cell_type": "code",
   "execution_count": 4,
   "id": "9595900b",
   "metadata": {},
   "outputs": [],
   "source": [
    "# shuffle, 打乱\n",
    "# num_workers, 使用4个进程来读取数据\n",
    "train_iter = data.DataLoader(\n",
    "    mnist_train_totensor, batch_size, shuffle=True, num_workers=4)\n",
    "test_iter = data.DataLoader(\n",
    "    mnist_test_totensor, batch_size, shuffle=True, num_workers=4)"
   ]
  },
  {
   "cell_type": "code",
   "execution_count": 5,
   "id": "3441d86f",
   "metadata": {},
   "outputs": [
    {
     "data": {
      "text/plain": [
       "Sequential(\n",
       "  (0): Sequential(\n",
       "    (0): Conv2d(1, 64, kernel_size=(3, 3), stride=(1, 1), padding=(1, 1))\n",
       "    (1): ReLU()\n",
       "    (2): MaxPool2d(kernel_size=2, stride=2, padding=0, dilation=1, ceil_mode=False)\n",
       "  )\n",
       "  (1): Sequential(\n",
       "    (0): Conv2d(64, 128, kernel_size=(3, 3), stride=(1, 1), padding=(1, 1))\n",
       "    (1): ReLU()\n",
       "    (2): MaxPool2d(kernel_size=2, stride=2, padding=0, dilation=1, ceil_mode=False)\n",
       "  )\n",
       "  (2): Sequential(\n",
       "    (0): Conv2d(128, 256, kernel_size=(3, 3), stride=(1, 1), padding=(1, 1))\n",
       "    (1): ReLU()\n",
       "    (2): Conv2d(256, 256, kernel_size=(3, 3), stride=(1, 1), padding=(1, 1))\n",
       "    (3): ReLU()\n",
       "    (4): MaxPool2d(kernel_size=2, stride=2, padding=0, dilation=1, ceil_mode=False)\n",
       "  )\n",
       "  (3): Sequential(\n",
       "    (0): Conv2d(256, 512, kernel_size=(3, 3), stride=(1, 1), padding=(1, 1))\n",
       "    (1): ReLU()\n",
       "    (2): Conv2d(512, 512, kernel_size=(3, 3), stride=(1, 1), padding=(1, 1))\n",
       "    (3): ReLU()\n",
       "    (4): MaxPool2d(kernel_size=2, stride=2, padding=0, dilation=1, ceil_mode=False)\n",
       "  )\n",
       "  (4): Sequential(\n",
       "    (0): Conv2d(512, 512, kernel_size=(3, 3), stride=(1, 1), padding=(1, 1))\n",
       "    (1): ReLU()\n",
       "    (2): Conv2d(512, 512, kernel_size=(3, 3), stride=(1, 1), padding=(1, 1))\n",
       "    (3): ReLU()\n",
       "    (4): MaxPool2d(kernel_size=2, stride=2, padding=0, dilation=1, ceil_mode=False)\n",
       "  )\n",
       "  (5): Flatten(start_dim=1, end_dim=-1)\n",
       "  (6): Linear(in_features=25088, out_features=4096, bias=True)\n",
       "  (7): ReLU()\n",
       "  (8): Dropout(p=0.5, inplace=False)\n",
       "  (9): Linear(in_features=4096, out_features=4096, bias=True)\n",
       "  (10): ReLU()\n",
       "  (11): Dropout(p=0.5, inplace=False)\n",
       "  (12): Linear(in_features=4096, out_features=10, bias=True)\n",
       ")"
      ]
     },
     "execution_count": 5,
     "metadata": {},
     "output_type": "execute_result"
    }
   ],
   "source": [
    "# 制造vgg块, 每个块由连续个卷积层+最大汇聚层构成\n",
    "# num_convs: 每个块中卷积层的数目\n",
    "# in_channels: 输入通道数目\n",
    "# out_channels: 输出通道数目\n",
    "def vgg_block(num_convs, in_channels, out_channels):\n",
    "    layers = []\n",
    "    for _ in range(num_convs):\n",
    "        layers.append(nn.Conv2d(in_channels, out_channels,\n",
    "                                kernel_size=3, padding=1))\n",
    "        layers.append(nn.ReLU())\n",
    "        # 让此块中的卷积层们的通道保持上下层连续\n",
    "        in_channels = out_channels\n",
    "    layers.append(nn.MaxPool2d(kernel_size=2, stride=2))\n",
    "    return nn.Sequential(*layers)\n",
    "\n",
    "\n",
    "# (一块中有几个卷积层, 输出的通道数)\n",
    "conv_arch = ((1, 64), (1, 128), (2, 256), (2, 512), (2, 512))\n",
    "\n",
    "\n",
    "def vgg(conv_arch):\n",
    "    conv_blks = []\n",
    "    in_channels = 1\n",
    "    # 卷积层部分\n",
    "    for (num_convs, out_channels) in conv_arch:\n",
    "        conv_blks.append(vgg_block(num_convs, in_channels, out_channels))\n",
    "        # 每个块之间的通道数保持上下连续一致\n",
    "        in_channels = out_channels\n",
    "\n",
    "    return nn.Sequential(\n",
    "        *conv_blks,\n",
    "        \n",
    "        nn.Flatten(),\n",
    "        \n",
    "        # 全连接层部分\n",
    "        nn.Linear(out_channels * 7 * 7, 4096),\n",
    "        nn.ReLU(),\n",
    "        nn.Dropout(0.5),\n",
    "        \n",
    "        nn.Linear(4096, 4096),\n",
    "        nn.ReLU(),\n",
    "        nn.Dropout(0.5),\n",
    "        \n",
    "        nn.Linear(4096, 10)\n",
    "    )\n",
    "\n",
    "\n",
    "net = vgg(conv_arch).to(device)\n",
    "net"
   ]
  },
  {
   "cell_type": "code",
   "execution_count": 6,
   "id": "a4202cdf",
   "metadata": {},
   "outputs": [
    {
     "name": "stdout",
     "output_type": "stream",
     "text": [
      "output shape: Sequential     torch.Size([1, 64, 112, 112])\n",
      "output shape: Sequential     torch.Size([1, 128, 56, 56])\n",
      "output shape: Sequential     torch.Size([1, 256, 28, 28])\n",
      "output shape: Sequential     torch.Size([1, 512, 14, 14])\n",
      "output shape: Sequential     torch.Size([1, 512, 7, 7])\n",
      "output shape: Flatten        torch.Size([1, 25088])\n",
      "output shape: Linear         torch.Size([1, 4096])\n",
      "output shape: ReLU           torch.Size([1, 4096])\n",
      "output shape: Dropout        torch.Size([1, 4096])\n",
      "output shape: Linear         torch.Size([1, 4096])\n",
      "output shape: ReLU           torch.Size([1, 4096])\n",
      "output shape: Dropout        torch.Size([1, 4096])\n",
      "output shape: Linear         torch.Size([1, 10])\n"
     ]
    }
   ],
   "source": [
    "X = torch.rand(size=(1, 1, 224, 224), dtype=torch.float32).to(device)\n",
    "for layer in net:\n",
    "    X = layer(X)\n",
    "    print(f'output shape: {layer.__class__.__name__: <15}{X.shape}')"
   ]
  },
  {
   "cell_type": "code",
   "execution_count": 7,
   "id": "3d0457c6",
   "metadata": {},
   "outputs": [],
   "source": [
    "def init_weights(m):\n",
    "    if type(m) == nn.Linear or type(m) == nn.Conv2d:\n",
    "        nn.init.xavier_uniform_(m.weight)\n",
    "\n",
    "\n",
    "net.apply(init_weights)\n",
    "optimizer = torch.optim.SGD(net.parameters(), lr=lr)\n",
    "loss = nn.CrossEntropyLoss()"
   ]
  },
  {
   "cell_type": "code",
   "execution_count": 8,
   "id": "d874a081",
   "metadata": {},
   "outputs": [],
   "source": [
    "def train_loop(train_iter, net, loss, optimizer):\n",
    "    # 共有几批\n",
    "    num_batchs = len(train_iter)\n",
    "    # 总平均loss\n",
    "    total_train_loss = 0\n",
    "    for batch, (X, y) in enumerate(train_iter):\n",
    "        # move to device\n",
    "        X, y = X.to(device), y.to(device)\n",
    "        # 该批的推断结果\n",
    "        y_hat = net(X)\n",
    "        \n",
    "        train_loss = loss(y_hat, y)\n",
    "        total_train_loss += train_loss.item()\n",
    "\n",
    "        # Backpropagation\n",
    "        optimizer.zero_grad()\n",
    "        train_loss.backward()\n",
    "        optimizer.step()\n",
    "\n",
    "        # --------打印进度        \n",
    "        print(f\"\\r[{batch+1:>8d}/{num_batchs:>8d}]  \", end='')\n",
    "\n",
    "    \n",
    "    return total_train_loss / num_batchs"
   ]
  },
  {
   "cell_type": "code",
   "execution_count": 10,
   "id": "500fd8f7",
   "metadata": {
    "scrolled": true
   },
   "outputs": [
    {
     "name": "stdout",
     "output_type": "stream",
     "text": [
      "[     469/     469]  epoch 1, total_train_loss 1.057548\n",
      "[     469/     469]  epoch 2, total_train_loss 0.450408\n",
      "[     469/     469]  epoch 3, total_train_loss 0.364171\n",
      "[     469/     469]  epoch 4, total_train_loss 0.321859\n",
      "[     469/     469]  epoch 5, total_train_loss 0.289413\n",
      "[     469/     469]  epoch 6, total_train_loss 0.264886\n",
      "[     469/     469]  epoch 7, total_train_loss 0.246249\n",
      "[     469/     469]  epoch 8, total_train_loss 0.227602\n",
      "[     469/     469]  epoch 9, total_train_loss 0.212800\n",
      "[     469/     469]  epoch 10, total_train_loss 0.198910\n"
     ]
    }
   ],
   "source": [
    "# ---------训练\n",
    "for epoch in range(num_epochs):\n",
    "    total_train_loss = train_loop(train_iter, net, loss, optimizer)\n",
    "    print(f'epoch {epoch + 1}, total_train_loss {total_train_loss:f}')"
   ]
  },
  {
   "cell_type": "code",
   "execution_count": 11,
   "id": "46185851",
   "metadata": {},
   "outputs": [
    {
     "name": "stdout",
     "output_type": "stream",
     "text": [
      "[      79/      79]  \n",
      "Test: Accuracy: 91.4%, Avg loss: 0.232293\n"
     ]
    }
   ],
   "source": [
    "# ----------预测\n",
    "def test_net(test_iter, net, loss):\n",
    "    # 共有几批\n",
    "    num_batchs = len(test_iter)\n",
    "    # 总平均loss, 总平均准确率\n",
    "    total_test_loss, total_correct = 0, 0\n",
    "    # 设定评估模式\n",
    "    net.eval()\n",
    "    # 不要梯度\n",
    "    with torch.no_grad():\n",
    "        for batch, (X, y) in enumerate(test_iter):\n",
    "            # move to device\n",
    "            X, y = X.to(device), y.to(device)\n",
    "            y_hat = net(X)\n",
    "\n",
    "            test_loss = loss(y_hat, y)\n",
    "            # 分类0,1,2,3的类别对的上否\n",
    "            correct = (y_hat.argmax(1) == y).float().sum().item()\n",
    "            total_test_loss += test_loss.item()\n",
    "            total_correct += correct/len(X)\n",
    "\n",
    "            # --------打印进度\n",
    "            print(f\"\\r[{batch+1:>8d}/{num_batchs:>8d}]  \", end='')\n",
    "\n",
    "\n",
    "    total_test_loss /= num_batchs\n",
    "    total_correct /= num_batchs\n",
    "    print(\n",
    "        f\"\\nTest: Accuracy: {total_correct:.1%}, Avg loss: {total_test_loss:f}\")\n",
    "    \n",
    "test_net(test_iter, net, loss)"
   ]
  },
  {
   "cell_type": "code",
   "execution_count": null,
   "id": "59b29d36",
   "metadata": {},
   "outputs": [],
   "source": [
    " "
   ]
  }
 ],
 "metadata": {
  "kernelspec": {
   "display_name": "Python 3.9.13 ('myenv')",
   "language": "python",
   "name": "python3"
  },
  "language_info": {
   "codemirror_mode": {
    "name": "ipython",
    "version": 3
   },
   "file_extension": ".py",
   "mimetype": "text/x-python",
   "name": "python",
   "nbconvert_exporter": "python",
   "pygments_lexer": "ipython3",
   "version": "3.9.13 (main, Oct 13 2022, 21:15:33) \n[GCC 11.2.0]"
  },
  "toc": {
   "base_numbering": 1,
   "nav_menu": {},
   "number_sections": true,
   "sideBar": true,
   "skip_h1_title": false,
   "title_cell": "Table of Contents",
   "title_sidebar": "Contents",
   "toc_cell": false,
   "toc_position": {},
   "toc_section_display": true,
   "toc_window_display": false
  },
  "vscode": {
   "interpreter": {
    "hash": "70c2c951b79418afa68fe3ba4cfcb65558a15271f3a0c4c0e1072a999987ff99"
   }
  }
 },
 "nbformat": 4,
 "nbformat_minor": 5
}
