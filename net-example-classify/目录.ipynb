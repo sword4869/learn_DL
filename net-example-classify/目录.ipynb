{
 "cells": [
  {
   "cell_type": "markdown",
   "id": "262b6a38",
   "metadata": {},
   "source": [
    "经典卷积神经网络的基本组成部分是下面的这个序列：\n",
    "\n",
    "- 带填充以保持分辨率的卷积层；\n",
    "\n",
    "- 非线性激活函数，如ReLU；\n",
    "\n",
    "- 汇聚层，如最大汇聚层。"
   ]
  },
  {
   "cell_type": "markdown",
   "id": "62d0adce",
   "metadata": {},
   "source": [
    "都有一个共同的设计模式：\n",
    "- 通过一系列的卷积层与汇聚层来提取空间结构特征；\n",
    "- 随着深入, 分辨率降低，通道数量增加\n",
    "- 最后的特征处理:\n",
    "\n",
    "  - LeNet, AlexNet, VGG: 通过全连接层对特征的表征进行处理。 \n",
    "  \n",
    "  - NiN, GoogLeNet, ResNet: 通过全局平均汇聚层聚集所有特征。\n",
    "  \n",
    "改进:\n",
    "\n",
    "- AlexNet, VGG\n",
    "\n",
    "  AlexNet(不同大小的卷积核)和VGG(相同大小的卷积核, 但多个块)对LeNet的改进主要在于如何扩大和加深这两个模块。 \n",
    "\n",
    "- NiN\n",
    "\n",
    "  参照AlexNet的卷积核大小；\n",
    "  \n",
    "  此外, NiN完全取消了全连接层, 替换其为NiN块+全局平均汇聚层(将通道维度视为不同特征)\n",
    "\n",
    "- GoogLeNet\n",
    "\n",
    "  吸收了NiN中替代全连接层的思想, \n",
    "  \n",
    "  并吸收AlexNet使用不同大小的卷积核组合(和AlexNet具体大小不一样).\n",
    "\n",
    "- ResNet\n",
    "  \n",
    "  吸收了GoogleNet第一个模块的设计(加了个批量规范化), \n",
    "  \n",
    "  残差块中都用3x3的卷积层, \n",
    "  \n",
    "  吸收了NiN中替代全连接层的思想\n"
   ]
  },
  {
   "cell_type": "markdown",
   "id": "0c432bd3",
   "metadata": {},
   "source": [
    "\n",
    "[lenet](lenet.ipynb)\n",
    "\n",
    "[alexnet](alexnet.ipynb)\n",
    "\n",
    "[vgg11](vgg11.ipynb)\n",
    "\n",
    "[nin](nin.ipynb)\n",
    "\n",
    "[googlenet](googlenet.ipynb)"
   ]
  }
 ],
 "metadata": {
  "kernelspec": {
   "display_name": "Python [conda env:myenv]",
   "language": "python",
   "name": "conda-env-myenv-py"
  },
  "language_info": {
   "codemirror_mode": {
    "name": "ipython",
    "version": 3
   },
   "file_extension": ".py",
   "mimetype": "text/x-python",
   "name": "python",
   "nbconvert_exporter": "python",
   "pygments_lexer": "ipython3",
   "version": "3.9.13"
  },
  "toc": {
   "base_numbering": 1,
   "nav_menu": {},
   "number_sections": true,
   "sideBar": true,
   "skip_h1_title": false,
   "title_cell": "Table of Contents",
   "title_sidebar": "Contents",
   "toc_cell": false,
   "toc_position": {},
   "toc_section_display": true,
   "toc_window_display": false
  }
 },
 "nbformat": 4,
 "nbformat_minor": 5
}
