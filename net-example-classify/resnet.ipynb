{
 "cells": [
  {
   "cell_type": "markdown",
   "id": "18e5369b",
   "metadata": {},
   "source": [
    "\n",
    "\n",
    "\n",
    "改进思路:\n",
    "\n",
    "- NiN认为如果使用了全连接层，可能会完全放弃表征的**空间结构**。且全连接层容易造成过拟合. \n",
    "\n",
    "- 所以相对于AlexNet, NiN完全取消了全连接层, 替换其为NiN块+全局平均汇聚层(将通道维度视为不同特征)\n",
    "\n",
    "\n",
    "ResNet块:\n",
    "\n",
    "- ResNet沿用了VGG完整的卷积层设计。 残差块里首先有2个有相同输出通道数的3x3卷积层, 每个卷积层后接一个批量规范化层和ReLU激活函数。\n",
    "\n",
    "- 根据输出与输入通道一样否\n",
    "  - 第一种跨层数据通路(一样): 将输入直接加在最后的ReLU激活函数前\n",
    "  - 第二种跨层数据通路(不一样): 将输入通过1x1卷积层后(改变通道数), 再做相加运算\n",
    "\n",
    "![](../image/resnet-block.svg)\n",
    "\n",
    "整体架构:\n",
    "\n",
    "\n",
    "\n",
    "- 第一个模块和GoogLeNet中的一样(7x7的卷积层, 3x3的最大汇聚层), 区别是在ReLU前加了批量规范化层.\n",
    "\n",
    "- 8个Residual块, 2个2个分4个模块 \n",
    "  \n",
    "  第一个模块的2个残差块一样, 通道数同输入通道数一致。 \n",
    "  \n",
    "  之后的每个模块在第一个残差块里将上一个模块的通道数翻倍，并将高和宽减半, 第二个残差块通道数同输入通道数一致.\n",
    "\n",
    "- 最后有一个全局平均汇聚层, 将10通道的结果, 每个通道汇聚成一个对数几率, 即10个表示是不是此类的概率.\n",
    "\n",
    "![](../image/resnet18.svg)"
   ]
  },
  {
   "cell_type": "code",
   "execution_count": 1,
   "id": "bfce19af",
   "metadata": {},
   "outputs": [],
   "source": [
    "import torch\n",
    "# torchvision.datasets.FashionMNIST\n",
    "import torchvision\n",
    "# 修改数据集格式\n",
    "from torchvision import transforms\n",
    "# data.DataLoader\n",
    "from torch.utils import data\n",
    "# nn块\n",
    "from torch import nn"
   ]
  },
  {
   "cell_type": "code",
   "execution_count": 2,
   "id": "4181785f",
   "metadata": {},
   "outputs": [
    {
     "name": "stdout",
     "output_type": "stream",
     "text": [
      "cuda\n"
     ]
    }
   ],
   "source": [
    "# -----------参数-----------\n",
    "device = torch.device(\"cuda\" if torch.cuda.is_available() else \"cpu\")\n",
    "print(device)\n",
    "batch_size = 128\n",
    "lr = 3e-2\n",
    "num_epochs=10"
   ]
  },
  {
   "cell_type": "code",
   "execution_count": 3,
   "id": "1f773125",
   "metadata": {},
   "outputs": [
    {
     "data": {
      "text/plain": [
       "torch.Size([1, 224, 224])"
      ]
     },
     "execution_count": 3,
     "metadata": {},
     "output_type": "execute_result"
    }
   ],
   "source": [
    "# 列表\n",
    "trans = [\n",
    "    transforms.Resize((224, 224)),\n",
    "    transforms.ToTensor(),\n",
    "]\n",
    "# 转化列表为torchvision.transforms.transforms.Compose对象, 这样就能写 transform=trans\n",
    "trans = transforms.Compose(trans)\n",
    "mnist_train_totensor = torchvision.datasets.FashionMNIST(\n",
    "    root=\"../data\",\n",
    "    train=True,\n",
    "    download=True,\n",
    "    transform=trans\n",
    ")\n",
    "mnist_test_totensor = torchvision.datasets.FashionMNIST(\n",
    "    root=\"../data\",\n",
    "    train=False,\n",
    "    download=True,\n",
    "    transform=trans\n",
    ")\n",
    "# 28*28, 不用转化大小\n",
    "# mnist_train_totensor[0][0]\n",
    "mnist_train_totensor[0][0].shape"
   ]
  },
  {
   "cell_type": "code",
   "execution_count": 4,
   "id": "9595900b",
   "metadata": {},
   "outputs": [],
   "source": [
    "# shuffle, 打乱\n",
    "# num_workers, 使用4个进程来读取数据\n",
    "train_iter = data.DataLoader(\n",
    "    mnist_train_totensor, batch_size, shuffle=True, num_workers=4)\n",
    "test_iter = data.DataLoader(\n",
    "    mnist_test_totensor, batch_size, shuffle=True, num_workers=4)"
   ]
  },
  {
   "cell_type": "code",
   "execution_count": 5,
   "id": "3441d86f",
   "metadata": {},
   "outputs": [
    {
     "data": {
      "text/plain": [
       "Sequential(\n",
       "  (0): Sequential(\n",
       "    (0): Conv2d(1, 64, kernel_size=(7, 7), stride=(2, 2), padding=(3, 3))\n",
       "    (1): BatchNorm2d(64, eps=1e-05, momentum=0.1, affine=True, track_running_stats=True)\n",
       "    (2): ReLU()\n",
       "    (3): MaxPool2d(kernel_size=3, stride=2, padding=1, dilation=1, ceil_mode=False)\n",
       "  )\n",
       "  (1): Sequential(\n",
       "    (0): Residual(\n",
       "      (conv1): Conv2d(64, 64, kernel_size=(3, 3), stride=(1, 1), padding=(1, 1))\n",
       "      (conv2): Conv2d(64, 64, kernel_size=(3, 3), stride=(1, 1), padding=(1, 1))\n",
       "      (bn1): BatchNorm2d(64, eps=1e-05, momentum=0.1, affine=True, track_running_stats=True)\n",
       "      (bn2): BatchNorm2d(64, eps=1e-05, momentum=0.1, affine=True, track_running_stats=True)\n",
       "      (relu): ReLU()\n",
       "    )\n",
       "    (1): Residual(\n",
       "      (conv1): Conv2d(64, 64, kernel_size=(3, 3), stride=(1, 1), padding=(1, 1))\n",
       "      (conv2): Conv2d(64, 64, kernel_size=(3, 3), stride=(1, 1), padding=(1, 1))\n",
       "      (bn1): BatchNorm2d(64, eps=1e-05, momentum=0.1, affine=True, track_running_stats=True)\n",
       "      (bn2): BatchNorm2d(64, eps=1e-05, momentum=0.1, affine=True, track_running_stats=True)\n",
       "      (relu): ReLU()\n",
       "    )\n",
       "  )\n",
       "  (2): Sequential(\n",
       "    (0): Residual(\n",
       "      (conv1): Conv2d(64, 128, kernel_size=(3, 3), stride=(2, 2), padding=(1, 1))\n",
       "      (conv2): Conv2d(128, 128, kernel_size=(3, 3), stride=(1, 1), padding=(1, 1))\n",
       "      (conv3): Conv2d(64, 128, kernel_size=(1, 1), stride=(2, 2))\n",
       "      (bn1): BatchNorm2d(128, eps=1e-05, momentum=0.1, affine=True, track_running_stats=True)\n",
       "      (bn2): BatchNorm2d(128, eps=1e-05, momentum=0.1, affine=True, track_running_stats=True)\n",
       "      (relu): ReLU()\n",
       "    )\n",
       "    (1): Residual(\n",
       "      (conv1): Conv2d(128, 128, kernel_size=(3, 3), stride=(1, 1), padding=(1, 1))\n",
       "      (conv2): Conv2d(128, 128, kernel_size=(3, 3), stride=(1, 1), padding=(1, 1))\n",
       "      (bn1): BatchNorm2d(128, eps=1e-05, momentum=0.1, affine=True, track_running_stats=True)\n",
       "      (bn2): BatchNorm2d(128, eps=1e-05, momentum=0.1, affine=True, track_running_stats=True)\n",
       "      (relu): ReLU()\n",
       "    )\n",
       "  )\n",
       "  (3): Sequential(\n",
       "    (0): Residual(\n",
       "      (conv1): Conv2d(128, 256, kernel_size=(3, 3), stride=(2, 2), padding=(1, 1))\n",
       "      (conv2): Conv2d(256, 256, kernel_size=(3, 3), stride=(1, 1), padding=(1, 1))\n",
       "      (conv3): Conv2d(128, 256, kernel_size=(1, 1), stride=(2, 2))\n",
       "      (bn1): BatchNorm2d(256, eps=1e-05, momentum=0.1, affine=True, track_running_stats=True)\n",
       "      (bn2): BatchNorm2d(256, eps=1e-05, momentum=0.1, affine=True, track_running_stats=True)\n",
       "      (relu): ReLU()\n",
       "    )\n",
       "    (1): Residual(\n",
       "      (conv1): Conv2d(256, 256, kernel_size=(3, 3), stride=(1, 1), padding=(1, 1))\n",
       "      (conv2): Conv2d(256, 256, kernel_size=(3, 3), stride=(1, 1), padding=(1, 1))\n",
       "      (bn1): BatchNorm2d(256, eps=1e-05, momentum=0.1, affine=True, track_running_stats=True)\n",
       "      (bn2): BatchNorm2d(256, eps=1e-05, momentum=0.1, affine=True, track_running_stats=True)\n",
       "      (relu): ReLU()\n",
       "    )\n",
       "  )\n",
       "  (4): Sequential(\n",
       "    (0): Residual(\n",
       "      (conv1): Conv2d(256, 512, kernel_size=(3, 3), stride=(2, 2), padding=(1, 1))\n",
       "      (conv2): Conv2d(512, 512, kernel_size=(3, 3), stride=(1, 1), padding=(1, 1))\n",
       "      (conv3): Conv2d(256, 512, kernel_size=(1, 1), stride=(2, 2))\n",
       "      (bn1): BatchNorm2d(512, eps=1e-05, momentum=0.1, affine=True, track_running_stats=True)\n",
       "      (bn2): BatchNorm2d(512, eps=1e-05, momentum=0.1, affine=True, track_running_stats=True)\n",
       "      (relu): ReLU()\n",
       "    )\n",
       "    (1): Residual(\n",
       "      (conv1): Conv2d(512, 512, kernel_size=(3, 3), stride=(1, 1), padding=(1, 1))\n",
       "      (conv2): Conv2d(512, 512, kernel_size=(3, 3), stride=(1, 1), padding=(1, 1))\n",
       "      (bn1): BatchNorm2d(512, eps=1e-05, momentum=0.1, affine=True, track_running_stats=True)\n",
       "      (bn2): BatchNorm2d(512, eps=1e-05, momentum=0.1, affine=True, track_running_stats=True)\n",
       "      (relu): ReLU()\n",
       "    )\n",
       "  )\n",
       "  (5): AdaptiveAvgPool2d(output_size=(1, 1))\n",
       "  (6): Flatten(start_dim=1, end_dim=-1)\n",
       "  (7): Linear(in_features=512, out_features=10, bias=True)\n",
       ")"
      ]
     },
     "execution_count": 5,
     "metadata": {},
     "output_type": "execute_result"
    }
   ],
   "source": [
    "# 制造Residual块\n",
    "# input_channels: 输入通道数\n",
    "# num_channels: 输出通道数\n",
    "# use_1x1conv: 根据通道一样不一样. False表示第一种, True表示第二种\n",
    "# strides: 图像用作缩小吗\n",
    "class Residual(nn.Module):\n",
    "    def __init__(self, input_channels, num_channels,\n",
    "                 use_1x1conv=False, strides=1):\n",
    "        super().__init__()\n",
    "        # 2个3x3的卷积层\n",
    "        self.conv1 = nn.Conv2d(input_channels, num_channels,\n",
    "                               kernel_size=3, padding=1, stride=strides)\n",
    "        self.conv2 = nn.Conv2d(num_channels, num_channels,\n",
    "                               kernel_size=3, padding=1)\n",
    "        if use_1x1conv:\n",
    "            self.conv3 = nn.Conv2d(input_channels, num_channels,\n",
    "                                   kernel_size=1, stride=strides)\n",
    "        else:\n",
    "            self.conv3 = None\n",
    "        self.bn1 = nn.BatchNorm2d(num_channels)\n",
    "        self.bn2 = nn.BatchNorm2d(num_channels)\n",
    "        self.relu = nn.ReLU()\n",
    "\n",
    "    def forward(self, X):\n",
    "        Y = self.relu(self.bn1(self.conv1(X)))\n",
    "        Y = self.bn2(self.conv2(Y))\n",
    "        if self.conv3:\n",
    "            X = self.conv3(X)\n",
    "        Y += X\n",
    "        return self.relu(Y)\n",
    "\n",
    "\n",
    "def resnet_block(input_channels, num_channels, num_residuals,\n",
    "                 first_block=False):\n",
    "    blk = []\n",
    "    for i in range(num_residuals):\n",
    "        if i == 0 and not first_block:\n",
    "            blk.append(Residual(input_channels, num_channels,\n",
    "                                use_1x1conv=True, strides=2))\n",
    "        else:\n",
    "            blk.append(Residual(num_channels, num_channels))\n",
    "    return blk\n",
    "\n",
    "\n",
    "b1 = nn.Sequential(\n",
    "    nn.Conv2d(1, 64, kernel_size=7, stride=2, padding=3),\n",
    "    nn.BatchNorm2d(64),\n",
    "    nn.ReLU(),\n",
    "    nn.MaxPool2d(kernel_size=3, stride=2, padding=1)\n",
    ")\n",
    "b2 = nn.Sequential(\n",
    "    Residual(64, 64),\n",
    "    Residual(64, 64)\n",
    ")\n",
    "b3 = nn.Sequential(\n",
    "    Residual(64, 128, use_1x1conv=True, strides=2),\n",
    "    Residual(128, 128)\n",
    ")\n",
    "b4 = nn.Sequential(\n",
    "    Residual(128, 256, use_1x1conv=True, strides=2),\n",
    "    Residual(256, 256)\n",
    ")\n",
    "b5 = nn.Sequential(\n",
    "    Residual(256, 512, use_1x1conv=True, strides=2),\n",
    "    Residual(512, 512)\n",
    ")\n",
    "\n",
    "\n",
    "net = nn.Sequential(\n",
    "    b1, \n",
    "    b2, \n",
    "    b3, \n",
    "    b4, \n",
    "    b5,\n",
    "    nn.AdaptiveAvgPool2d((1,1)),\n",
    "    nn.Flatten(), \n",
    "    nn.Linear(512, 10)\n",
    ").to(device)\n",
    "net"
   ]
  },
  {
   "cell_type": "code",
   "execution_count": 6,
   "id": "a4202cdf",
   "metadata": {
    "scrolled": true
   },
   "outputs": [
    {
     "name": "stdout",
     "output_type": "stream",
     "text": [
      "output shape: Sequential     torch.Size([1, 64, 56, 56])\n",
      "output shape: Sequential     torch.Size([1, 64, 56, 56])\n",
      "output shape: Sequential     torch.Size([1, 128, 28, 28])\n",
      "output shape: Sequential     torch.Size([1, 256, 14, 14])\n",
      "output shape: Sequential     torch.Size([1, 512, 7, 7])\n",
      "output shape: AdaptiveAvgPool2dtorch.Size([1, 512, 1, 1])\n",
      "output shape: Flatten        torch.Size([1, 512])\n",
      "output shape: Linear         torch.Size([1, 10])\n"
     ]
    }
   ],
   "source": [
    "X = torch.rand(size=(1, 1, 224, 224), dtype=torch.float32).to(device)\n",
    "for layer in net:\n",
    "    X = layer(X)\n",
    "    print(f'output shape: {layer.__class__.__name__: <15}{X.shape}')"
   ]
  },
  {
   "cell_type": "code",
   "execution_count": 7,
   "id": "3d0457c6",
   "metadata": {},
   "outputs": [],
   "source": [
    "def init_weights(m):\n",
    "    if type(m) == nn.Linear or type(m) == nn.Conv2d:\n",
    "        nn.init.xavier_uniform_(m.weight)\n",
    "\n",
    "\n",
    "net.apply(init_weights)\n",
    "optimizer = torch.optim.SGD(net.parameters(), lr=lr)\n",
    "loss = nn.CrossEntropyLoss()"
   ]
  },
  {
   "cell_type": "code",
   "execution_count": 8,
   "id": "d874a081",
   "metadata": {},
   "outputs": [],
   "source": [
    "def train_loop(train_iter, net, loss, optimizer):\n",
    "    # 共有几批\n",
    "    num_batchs = len(train_iter)\n",
    "    # 总平均loss\n",
    "    total_train_loss = 0\n",
    "    for batch, (X, y) in enumerate(train_iter):\n",
    "        # move to device\n",
    "        X, y = X.to(device), y.to(device)\n",
    "        # 该批的推断结果\n",
    "        y_hat = net(X)\n",
    "        \n",
    "        train_loss = loss(y_hat, y)\n",
    "        total_train_loss += train_loss.item()\n",
    "\n",
    "        # Backpropagation\n",
    "        optimizer.zero_grad()\n",
    "        train_loss.backward()\n",
    "        optimizer.step()\n",
    "\n",
    "        # --------打印进度        \n",
    "        print(f\"\\r[{batch+1:>8d}/{num_batchs:>8d}]  \", end='')\n",
    "\n",
    "    \n",
    "    return total_train_loss / num_batchs"
   ]
  },
  {
   "cell_type": "code",
   "execution_count": 9,
   "id": "500fd8f7",
   "metadata": {
    "scrolled": true
   },
   "outputs": [
    {
     "name": "stdout",
     "output_type": "stream",
     "text": [
      "[     469/     469]  epoch 1, total_train_loss 0.493547\n",
      "[     469/     469]  epoch 2, total_train_loss 0.277788\n",
      "[     469/     469]  epoch 3, total_train_loss 0.218713\n",
      "[     469/     469]  epoch 4, total_train_loss 0.178624\n",
      "[     469/     469]  epoch 5, total_train_loss 0.143290\n",
      "[     469/     469]  epoch 6, total_train_loss 0.110940\n",
      "[     469/     469]  epoch 7, total_train_loss 0.081509\n",
      "[     469/     469]  epoch 8, total_train_loss 0.054200\n",
      "[     469/     469]  epoch 9, total_train_loss 0.033889\n",
      "[     469/     469]  epoch 10, total_train_loss 0.021092\n"
     ]
    }
   ],
   "source": [
    "# ---------训练\n",
    "for epoch in range(num_epochs):\n",
    "    total_train_loss = train_loop(train_iter, net, loss, optimizer)\n",
    "    print(f'epoch {epoch + 1}, total_train_loss {total_train_loss:f}')"
   ]
  },
  {
   "cell_type": "code",
   "execution_count": 10,
   "id": "46185851",
   "metadata": {},
   "outputs": [
    {
     "name": "stdout",
     "output_type": "stream",
     "text": [
      "[      79/      79]  \n",
      "Test: Accuracy: 88.8%, Avg loss: 0.581759\n"
     ]
    }
   ],
   "source": [
    "# ----------预测\n",
    "def test_net(test_iter, net, loss):\n",
    "    # 共有几批\n",
    "    num_batchs = len(test_iter)\n",
    "    # 总平均loss, 总平均准确率\n",
    "    total_test_loss, total_correct = 0, 0\n",
    "    # 设定评估模式\n",
    "    net.eval()\n",
    "    # 不要梯度\n",
    "    with torch.no_grad():\n",
    "        for batch, (X, y) in enumerate(test_iter):\n",
    "            # move to device\n",
    "            X, y = X.to(device), y.to(device)\n",
    "            y_hat = net(X)\n",
    "\n",
    "            test_loss = loss(y_hat, y)\n",
    "            # 分类0,1,2,3的类别对的上否\n",
    "            correct = (y_hat.argmax(1) == y).float().sum().item()\n",
    "            total_test_loss += test_loss.item()\n",
    "            total_correct += correct/len(X)\n",
    "\n",
    "            # --------打印进度\n",
    "            print(f\"\\r[{batch+1:>8d}/{num_batchs:>8d}]  \", end='')\n",
    "\n",
    "\n",
    "    total_test_loss /= num_batchs\n",
    "    total_correct /= num_batchs\n",
    "    print(\n",
    "        f\"\\nTest: Accuracy: {total_correct:.1%}, Avg loss: {total_test_loss:f}\")\n",
    "    \n",
    "test_net(test_iter, net, loss)"
   ]
  },
  {
   "cell_type": "code",
   "execution_count": null,
   "id": "749c86f8",
   "metadata": {},
   "outputs": [],
   "source": []
  }
 ],
 "metadata": {
  "kernelspec": {
   "display_name": "Python [conda env:myenv]",
   "language": "python",
   "name": "conda-env-myenv-py"
  },
  "language_info": {
   "codemirror_mode": {
    "name": "ipython",
    "version": 3
   },
   "file_extension": ".py",
   "mimetype": "text/x-python",
   "name": "python",
   "nbconvert_exporter": "python",
   "pygments_lexer": "ipython3",
   "version": "3.9.13"
  },
  "toc": {
   "base_numbering": 1,
   "nav_menu": {},
   "number_sections": true,
   "sideBar": true,
   "skip_h1_title": false,
   "title_cell": "Table of Contents",
   "title_sidebar": "Contents",
   "toc_cell": false,
   "toc_position": {},
   "toc_section_display": true,
   "toc_window_display": false
  }
 },
 "nbformat": 4,
 "nbformat_minor": 5
}
