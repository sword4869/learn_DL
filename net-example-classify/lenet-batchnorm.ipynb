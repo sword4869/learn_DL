{
 "cells": [
  {
   "cell_type": "markdown",
   "id": "771564d1",
   "metadata": {},
   "source": [
    "![](../image/lenet.svg)\n",
    "![](../image/lenet-vert.svg)"
   ]
  },
  {
   "cell_type": "markdown",
   "id": "9e83fdc1",
   "metadata": {},
   "source": [
    "卷积:\n",
    "- 2个卷积层(都是5x5), 3个全连接层\n",
    "\n",
    "- 平均汇聚层, 而非最大汇聚层\n",
    "\n",
    "其他:\n",
    "\n",
    "- 使用一个sigmoid激活函数。而非ReLU"
   ]
  },
  {
   "cell_type": "code",
   "execution_count": 1,
   "id": "a3d0ff3b",
   "metadata": {},
   "outputs": [],
   "source": [
    "import torch\n",
    "# torchvision.datasets.FashionMNIST\n",
    "import torchvision\n",
    "# 修改数据集格式\n",
    "from torchvision import transforms\n",
    "# data.DataLoader\n",
    "from torch.utils import data\n",
    "# nn块\n",
    "from torch import nn"
   ]
  },
  {
   "cell_type": "code",
   "execution_count": 2,
   "id": "de6457d1",
   "metadata": {},
   "outputs": [
    {
     "name": "stdout",
     "output_type": "stream",
     "text": [
      "cuda\n"
     ]
    }
   ],
   "source": [
    "# -----------参数-----------\n",
    "device = torch.device(\"cuda\" if torch.cuda.is_available() else \"cpu\")\n",
    "print(device)\n",
    "batch_size = 128\n",
    "lr = 0.1\n",
    "num_epochs=20\n",
    "loss = nn.CrossEntropyLoss()"
   ]
  },
  {
   "cell_type": "code",
   "execution_count": 3,
   "id": "3eeca495",
   "metadata": {},
   "outputs": [
    {
     "data": {
      "text/plain": [
       "torch.Size([1, 28, 28])"
      ]
     },
     "execution_count": 3,
     "metadata": {},
     "output_type": "execute_result"
    }
   ],
   "source": [
    "trans = transforms.ToTensor()\n",
    "mnist_train_totensor = torchvision.datasets.FashionMNIST(\n",
    "    root=\"../data\",\n",
    "    train=True,\n",
    "    download=True,\n",
    "    transform=trans\n",
    ")\n",
    "mnist_test_totensor = torchvision.datasets.FashionMNIST(\n",
    "    root=\"../data\",\n",
    "    train=False,\n",
    "    download=True,\n",
    "    transform=trans\n",
    ")\n",
    "# 28*28, 不用转化大小\n",
    "mnist_train_totensor[0][0].shape"
   ]
  },
  {
   "cell_type": "code",
   "execution_count": 4,
   "id": "95d5a0c9",
   "metadata": {},
   "outputs": [],
   "source": [
    "# shuffle, 打乱\n",
    "# num_workers, 使用4个进程来读取数据\n",
    "train_iter = data.DataLoader(\n",
    "    mnist_train_totensor, batch_size, shuffle=True, num_workers=4)\n",
    "test_iter = data.DataLoader(\n",
    "    mnist_test_totensor, batch_size, shuffle=True, num_workers=4)"
   ]
  },
  {
   "cell_type": "code",
   "execution_count": 7,
   "id": "88a9be21",
   "metadata": {},
   "outputs": [
    {
     "data": {
      "text/plain": [
       "Sequential(\n",
       "  (0): Conv2d(1, 6, kernel_size=(5, 5), stride=(1, 1), padding=(2, 2))\n",
       "  (1): BatchNorm2d(6, eps=1e-05, momentum=0.1, affine=True, track_running_stats=True)\n",
       "  (2): Sigmoid()\n",
       "  (3): AvgPool2d(kernel_size=2, stride=2, padding=0)\n",
       "  (4): Conv2d(6, 16, kernel_size=(5, 5), stride=(1, 1))\n",
       "  (5): BatchNorm2d(16, eps=1e-05, momentum=0.1, affine=True, track_running_stats=True)\n",
       "  (6): Sigmoid()\n",
       "  (7): AvgPool2d(kernel_size=2, stride=2, padding=0)\n",
       "  (8): Flatten(start_dim=1, end_dim=-1)\n",
       "  (9): Linear(in_features=400, out_features=120, bias=True)\n",
       "  (10): BatchNorm1d(120, eps=1e-05, momentum=0.1, affine=True, track_running_stats=True)\n",
       "  (11): Sigmoid()\n",
       "  (12): Linear(in_features=120, out_features=84, bias=True)\n",
       "  (13): BatchNorm1d(84, eps=1e-05, momentum=0.1, affine=True, track_running_stats=True)\n",
       "  (14): Sigmoid()\n",
       "  (15): Linear(in_features=84, out_features=10, bias=True)\n",
       ")"
      ]
     },
     "execution_count": 7,
     "metadata": {},
     "output_type": "execute_result"
    }
   ],
   "source": [
    "net = nn.Sequential(\n",
    "    nn.Conv2d(1, 6, kernel_size=5, padding=2),\n",
    "    nn.BatchNorm2d(6),\n",
    "    nn.Sigmoid(),\n",
    "\n",
    "    nn.AvgPool2d(kernel_size=2, stride=2),\n",
    "    \n",
    "    nn.Conv2d(6, 16, kernel_size=5),\n",
    "    nn.BatchNorm2d(16),\n",
    "    nn.Sigmoid(),\n",
    "    \n",
    "    nn.AvgPool2d(kernel_size=2, stride=2),\n",
    "    \n",
    "    nn.Flatten(),\n",
    "    \n",
    "    nn.Linear(16 * 5 * 5, 120),\n",
    "    nn.BatchNorm1d(120),\n",
    "    nn.Sigmoid(),\n",
    "    \n",
    "    nn.Linear(120, 84),\n",
    "    nn.BatchNorm1d(84),\n",
    "    nn.Sigmoid(),\n",
    "    \n",
    "    nn.Linear(84, 10)\n",
    ").to(device)\n",
    "net"
   ]
  },
  {
   "cell_type": "code",
   "execution_count": 11,
   "id": "d98faf50",
   "metadata": {},
   "outputs": [
    {
     "name": "stdout",
     "output_type": "stream",
     "text": [
      "output shape: Conv2d         torch.Size([2, 6, 28, 28])\n",
      "output shape: BatchNorm2d    torch.Size([2, 6, 28, 28])\n",
      "output shape: Sigmoid        torch.Size([2, 6, 28, 28])\n",
      "output shape: AvgPool2d      torch.Size([2, 6, 14, 14])\n",
      "output shape: Conv2d         torch.Size([2, 16, 10, 10])\n",
      "output shape: BatchNorm2d    torch.Size([2, 16, 10, 10])\n",
      "output shape: Sigmoid        torch.Size([2, 16, 10, 10])\n",
      "output shape: AvgPool2d      torch.Size([2, 16, 5, 5])\n",
      "output shape: Flatten        torch.Size([2, 400])\n",
      "output shape: Linear         torch.Size([2, 120])\n",
      "output shape: BatchNorm1d    torch.Size([2, 120])\n",
      "output shape: Sigmoid        torch.Size([2, 120])\n",
      "output shape: Linear         torch.Size([2, 84])\n",
      "output shape: BatchNorm1d    torch.Size([2, 84])\n",
      "output shape: Sigmoid        torch.Size([2, 84])\n",
      "output shape: Linear         torch.Size([2, 10])\n"
     ]
    }
   ],
   "source": [
    "X = torch.rand(size=(2, 1, 28, 28), dtype=torch.float32).to(device)\n",
    "for layer in net:\n",
    "    X = layer(X)\n",
    "    print(f'output shape: {layer.__class__.__name__: <15}{X.shape}')"
   ]
  },
  {
   "cell_type": "code",
   "execution_count": 8,
   "id": "b3de9d62",
   "metadata": {},
   "outputs": [],
   "source": [
    "def init_weights(m):\n",
    "    if type(m) == nn.Linear or type(m) == nn.Conv2d:\n",
    "        nn.init.xavier_uniform_(m.weight)\n",
    "\n",
    "\n",
    "net.apply(init_weights)\n",
    "optimizer = torch.optim.SGD(net.parameters(), lr=lr)\n",
    "loss = nn.CrossEntropyLoss()"
   ]
  },
  {
   "cell_type": "code",
   "execution_count": 9,
   "id": "633bacdd",
   "metadata": {},
   "outputs": [],
   "source": [
    "def train_loop(train_iter, net, loss, optimizer):\n",
    "    # 共有几批\n",
    "    num_batchs = len(train_iter)\n",
    "    # 总平均loss\n",
    "    total_train_loss = 0\n",
    "    for batch, (X, y) in enumerate(train_iter):\n",
    "        # move to device\n",
    "        X, y = X.to(device), y.to(device)\n",
    "        # 该批的推断结果\n",
    "        y_hat = net(X)\n",
    "        \n",
    "        train_loss = loss(y_hat, y)\n",
    "        total_train_loss += train_loss.item()\n",
    "\n",
    "        # Backpropagation\n",
    "        optimizer.zero_grad()\n",
    "        train_loss.backward()\n",
    "        optimizer.step()\n",
    "\n",
    "        # --------打印进度        \n",
    "        print(f\"\\r[{batch+1:>8d}/{num_batchs:>8d}]  \", end='')\n",
    "\n",
    "    \n",
    "    return total_train_loss / num_batchs"
   ]
  },
  {
   "cell_type": "code",
   "execution_count": 10,
   "id": "fd61b9f3",
   "metadata": {},
   "outputs": [
    {
     "name": "stdout",
     "output_type": "stream",
     "text": [
      "[     469/     469]  epoch 1, total_train_loss 0.746685\n",
      "[     469/     469]  epoch 2, total_train_loss 0.480179\n",
      "[     469/     469]  epoch 3, total_train_loss 0.417636\n",
      "[     469/     469]  epoch 4, total_train_loss 0.380995\n",
      "[     469/     469]  epoch 5, total_train_loss 0.355484\n",
      "[     469/     469]  epoch 6, total_train_loss 0.335892\n",
      "[     469/     469]  epoch 7, total_train_loss 0.318740\n",
      "[     469/     469]  epoch 8, total_train_loss 0.307732\n",
      "[     469/     469]  epoch 9, total_train_loss 0.294946\n",
      "[     469/     469]  epoch 10, total_train_loss 0.284497\n",
      "[     469/     469]  epoch 11, total_train_loss 0.276756\n",
      "[     469/     469]  epoch 12, total_train_loss 0.269966\n",
      "[     469/     469]  epoch 13, total_train_loss 0.261793\n",
      "[     469/     469]  epoch 14, total_train_loss 0.255295\n",
      "[     469/     469]  epoch 15, total_train_loss 0.249387\n",
      "[     469/     469]  epoch 16, total_train_loss 0.242427\n",
      "[     469/     469]  epoch 17, total_train_loss 0.238807\n",
      "[     469/     469]  epoch 18, total_train_loss 0.232789\n",
      "[     469/     469]  epoch 19, total_train_loss 0.229073\n",
      "[     469/     469]  epoch 20, total_train_loss 0.225154\n"
     ]
    }
   ],
   "source": [
    "# ---------训练\n",
    "for epoch in range(num_epochs):\n",
    "    total_train_loss = train_loop(train_iter, net, loss, optimizer)\n",
    "    print(f'epoch {epoch + 1}, total_train_loss {total_train_loss:f}')"
   ]
  },
  {
   "cell_type": "code",
   "execution_count": 12,
   "id": "07b82ede",
   "metadata": {},
   "outputs": [
    {
     "name": "stdout",
     "output_type": "stream",
     "text": [
      "\r",
      "[       1/      79]  \r",
      "[       2/      79]  \r",
      "[       3/      79]  \r",
      "[       4/      79]  \r",
      "[       5/      79]  \r",
      "[       6/      79]  \r",
      "[       7/      79]  \r",
      "[       8/      79]  \r",
      "[       9/      79]  \r",
      "[      10/      79]  \r",
      "[      11/      79]  \r",
      "[      12/      79]  \r",
      "[      13/      79]  \r",
      "[      14/      79]  \r",
      "[      15/      79]  \r",
      "[      16/      79]  \r",
      "[      17/      79]  \r",
      "[      18/      79]  \r",
      "[      19/      79]  \r",
      "[      20/      79]  \r",
      "[      21/      79]  \r",
      "[      22/      79]  \r",
      "[      23/      79]  \r",
      "[      24/      79]  \r",
      "[      25/      79]  \r",
      "[      26/      79]  \r",
      "[      27/      79]  \r",
      "[      28/      79]  \r",
      "[      29/      79]  \r",
      "[      30/      79]  \r",
      "[      31/      79]  \r",
      "[      32/      79]  \r",
      "[      33/      79]  \r",
      "[      34/      79]  \r",
      "[      35/      79]  \r",
      "[      36/      79]  \r",
      "[      37/      79]  \r",
      "[      38/      79]  \r",
      "[      39/      79]  \r",
      "[      40/      79]  \r",
      "[      41/      79]  \r",
      "[      42/      79]  \r",
      "[      43/      79]  \r",
      "[      44/      79]  \r",
      "[      45/      79]  \r",
      "[      46/      79]  \r",
      "[      47/      79]  \r",
      "[      48/      79]  \r",
      "[      49/      79]  \r",
      "[      50/      79]  \r",
      "[      51/      79]  \r",
      "[      52/      79]  \r",
      "[      53/      79]  \r",
      "[      54/      79]  \r",
      "[      55/      79]  \r",
      "[      56/      79]  \r",
      "[      57/      79]  \r",
      "[      58/      79]  \r",
      "[      59/      79]  \r",
      "[      60/      79]  \r",
      "[      61/      79]  \r",
      "[      62/      79]  \r",
      "[      63/      79]  \r",
      "[      64/      79]  \r",
      "[      65/      79]  \r",
      "[      66/      79]  \r",
      "[      67/      79]  \r",
      "[      68/      79]  \r",
      "[      69/      79]  \r",
      "[      70/      79]  \r",
      "[      71/      79]  \r",
      "[      72/      79]  \r",
      "[      73/      79]  \r",
      "[      74/      79]  \r",
      "[      75/      79]  \r",
      "[      76/      79]  \r",
      "[      77/      79]  \r",
      "[      78/      79]  \r",
      "[      79/      79]  \n",
      "Test: Accuracy: 89.4%, Avg loss: 0.305960\n"
     ]
    }
   ],
   "source": [
    "# ----------预测\n",
    "def test_net(test_iter, net, loss):\n",
    "    # 共有几批\n",
    "    num_batchs = len(test_iter)\n",
    "    # 总平均loss, 总平均准确率\n",
    "    total_test_loss, total_correct = 0, 0\n",
    "    # 设定评估模式\n",
    "    net.eval()\n",
    "    # 不要梯度\n",
    "    with torch.no_grad():\n",
    "        for batch, (X, y) in enumerate(test_iter):\n",
    "            # move to device\n",
    "            X, y = X.to(device), y.to(device)\n",
    "            y_hat = net(X)\n",
    "\n",
    "            test_loss = loss(y_hat, y)\n",
    "            # 分类0,1,2,3的类别对的上否\n",
    "            correct = (y_hat.argmax(1) == y).float().sum().item()\n",
    "            total_test_loss += test_loss.item()\n",
    "            total_correct += correct/len(X)\n",
    "\n",
    "            # --------打印进度\n",
    "            print(f\"\\r[{batch+1:>8d}/{num_batchs:>8d}]  \", end='')\n",
    "\n",
    "\n",
    "    total_test_loss /= num_batchs\n",
    "    total_correct /= num_batchs\n",
    "    print(\n",
    "        f\"\\nTest: Accuracy: {total_correct:.1%}, Avg loss: {total_test_loss:f}\")\n",
    "    \n",
    "test_net(test_iter, net, loss)"
   ]
  },
  {
   "cell_type": "code",
   "execution_count": null,
   "id": "78c0ab28",
   "metadata": {},
   "outputs": [],
   "source": []
  },
  {
   "cell_type": "code",
   "execution_count": null,
   "id": "6331072a",
   "metadata": {},
   "outputs": [],
   "source": []
  }
 ],
 "metadata": {
  "kernelspec": {
   "display_name": "Python [conda env:myenv]",
   "language": "python",
   "name": "conda-env-myenv-py"
  },
  "language_info": {
   "codemirror_mode": {
    "name": "ipython",
    "version": 3
   },
   "file_extension": ".py",
   "mimetype": "text/x-python",
   "name": "python",
   "nbconvert_exporter": "python",
   "pygments_lexer": "ipython3",
   "version": "3.9.13"
  },
  "toc": {
   "base_numbering": 1,
   "nav_menu": {},
   "number_sections": true,
   "sideBar": true,
   "skip_h1_title": false,
   "title_cell": "Table of Contents",
   "title_sidebar": "Contents",
   "toc_cell": false,
   "toc_position": {},
   "toc_section_display": true,
   "toc_window_display": false
  }
 },
 "nbformat": 4,
 "nbformat_minor": 5
}
